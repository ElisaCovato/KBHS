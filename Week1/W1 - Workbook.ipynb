{
 "cells": [
  {
   "cell_type": "markdown",
   "id": "5a31212a",
   "metadata": {},
   "source": [
    "# Intro to Knowledge-base systems"
   ]
  },
  {
   "cell_type": "markdown",
   "id": "c8a1070f",
   "metadata": {},
   "source": [
    "This notebook serves as a tool to refresh your Python knowledge, ensure that the necessary libraries are installed, and program the symbolic AI example from the lecture."
   ]
  },
  {
   "cell_type": "markdown",
   "id": "dd0cad30",
   "metadata": {},
   "source": [
    "## Libraries"
   ]
  },
  {
   "cell_type": "markdown",
   "id": "3d4e020f",
   "metadata": {},
   "source": [
    "Throughout the module we will use 3 main libraries: numPy, pandas, matplotlib. The code below check whether the libraries are already installed, and install them if they are not present."
   ]
  },
  {
   "cell_type": "code",
   "execution_count": 1,
   "id": "cce0fc03",
   "metadata": {},
   "outputs": [
    {
     "name": "stderr",
     "output_type": "stream",
     "text": [
      "C:\\Program Files\\Anaconda3-2022.05\\lib\\site-packages\\_distutils_hack\\__init__.py:30: UserWarning: Setuptools is replacing distutils.\n",
      "  warnings.warn(\"Setuptools is replacing distutils.\")\n"
     ]
    }
   ],
   "source": [
    "import importlib\n",
    "import pip\n",
    "\n",
    "# this function check the installation of a library\n",
    "def check_and_install_library(library_name):\n",
    "    # check if library is already installed\n",
    "    try:\n",
    "        library = importlib.import_module(library_name)\n",
    "        library_version = library.__version__\n",
    "        print(f\"{library_name} version:\", library_version)\n",
    "    except ImportError:\n",
    "        # If library is not installed, install it\n",
    "        try:\n",
    "            pip.main(['install', library_name])\n",
    "            print(f\"{library_name} has been installed successfully!\")\n",
    "        except ImportError:\n",
    "            print(f\"Unable to install {library_name}. Please make sure you have pip installed.\")"
   ]
  },
  {
   "cell_type": "code",
   "execution_count": 2,
   "id": "4ee6768d",
   "metadata": {},
   "outputs": [
    {
     "name": "stdout",
     "output_type": "stream",
     "text": [
      "numpy version: 1.21.5\n"
     ]
    }
   ],
   "source": [
    "check_and_install_library(\"numpy\")"
   ]
  },
  {
   "cell_type": "code",
   "execution_count": 3,
   "id": "10cf1f5b",
   "metadata": {},
   "outputs": [
    {
     "name": "stdout",
     "output_type": "stream",
     "text": [
      "pandas version: 1.4.2\n"
     ]
    }
   ],
   "source": [
    "check_and_install_library(\"pandas\")"
   ]
  },
  {
   "cell_type": "code",
   "execution_count": 4,
   "id": "82430b52",
   "metadata": {},
   "outputs": [
    {
     "name": "stdout",
     "output_type": "stream",
     "text": [
      "matplotlib version: 3.5.1\n"
     ]
    }
   ],
   "source": [
    "check_and_install_library(\"matplotlib\")"
   ]
  },
  {
   "cell_type": "markdown",
   "id": "c75b027e",
   "metadata": {},
   "source": [
    "If all the code above ran succesfully, you should be able to import your libraries."
   ]
  },
  {
   "cell_type": "code",
   "execution_count": 5,
   "id": "a86085c5",
   "metadata": {},
   "outputs": [],
   "source": [
    "import numpy as np\n",
    "import pandas as pd\n",
    "import matplotlib.pyplot as plt"
   ]
  },
  {
   "cell_type": "markdown",
   "id": "8084328b",
   "metadata": {},
   "source": [
    "## Symbolic AI & knowledge"
   ]
  },
  {
   "cell_type": "markdown",
   "id": "f552fcca",
   "metadata": {},
   "source": [
    "Let's consider the following **knoweldge** about oranges, apples and bananas:\n",
    "\n",
    "- Apples are green and round and have smooth skin\n",
    "- Oranges are orange and round and have rough skin\n",
    "- Bananas are yellow and long and pointed at both ends and have smooth skin.\n",
    "\n",
    "We can encode this knowledge using symbols. A mixture of **facts** and **logic**\n",
    "\n",
    "|          | Apples | Oranges | Bananas |\n",
    "|----------|--------|---------|---------|\n",
    "| isGreen  | True   |         |         |\n",
    "| IsOrange |        | True    |         |\n",
    "| isYellow |        |         | True    |\n",
    "| isRound  | True   | True    |         |\n",
    "| isLong   |        |         | True    |\n",
    "| isRough  |        | True    |         |\n",
    "| isSmooth | True   |         | True    |\n",
    "\n",
    "and **rules**:\n",
    "\n",
    "\n",
    "_isRound(x)_ AND _isGreen(x)_  AND _isSmooth(x)_   => _isApple(x)_\n",
    "\n",
    "_isRound(x)_ AND _isOrange(x)_ AND _isRough(x)_    => _isOrange(x)_\n",
    "\n",
    "_isLong(x)_  AND _isYellow(x)_ AND _isSmooth(x)_   => _isBanana(x)_"
   ]
  },
  {
   "cell_type": "markdown",
   "id": "9e94fffd",
   "metadata": {},
   "source": [
    "We can collect our rules into an array, as a list of pairs: [(facts), name of object]"
   ]
  },
  {
   "cell_type": "code",
   "execution_count": 6,
   "id": "f0170441",
   "metadata": {},
   "outputs": [],
   "source": [
    "rules = [\n",
    "    [(\"isGreen\", \"isRound\",\"isSmooth\"),\"isApple\"],\n",
    "    [(\"isOrange\", \"isRound\",\"isRough\"),\"isOrange\"],\n",
    "    [(\"isYellow\", \"isLong\",\"isSmooth\"),\"isBanana\"]\n",
    "]"
   ]
  },
  {
   "cell_type": "markdown",
   "id": "ec8f3e2f",
   "metadata": {},
   "source": [
    "Let's assume that we have now two fruits, fruit A and B, for which we know the following facts:\n",
    "\n",
    "- Fruit A: round, green and smooth\n",
    "- Fruit B: rough, round, green\n",
    "\n",
    "We want to use our encoded **knowledge** to understand what type of fruits we have. Let's start by encoding the known facts for Fruit A and B."
   ]
  },
  {
   "cell_type": "code",
   "execution_count": 7,
   "id": "0f5e8628",
   "metadata": {},
   "outputs": [],
   "source": [
    "facts = [\n",
    "    ['Fruit A', 'isRound'],\n",
    "    ['Fruit A', 'isGreen'],\n",
    "    ['Fruit A', 'isSmooth'],\n",
    "    ['Fruit B', 'isRound'],\n",
    "    ['Fruit B', 'isRough'],\n",
    "    ['Fruit B', 'isGreen'],\n",
    "]"
   ]
  },
  {
   "cell_type": "code",
   "execution_count": 8,
   "id": "204e954b",
   "metadata": {},
   "outputs": [],
   "source": [
    "# the function belows checks current facts against previously defined rules\n",
    "\n",
    "def check_facts(facts):\n",
    "    \n",
    "    # get list of objects we know something about\n",
    "    objs = list()\n",
    "    for fact in facts:\n",
    "        obj = fact[0]\n",
    "        if  not (obj in objs):\n",
    "            objs.append(obj)\n",
    "    print(f\"These are the objects I known something about: {objs}\\n\")\n",
    "    \n",
    "    for obj in objs:\n",
    "        # create a list of facts for each object\n",
    "        obj_conditions = [fact[1] for fact in facts if obj in fact]\n",
    "        \n",
    "        # check if the list match previosly defined rules\n",
    "        # check is done until a match is found\n",
    "        stillGoing= True\n",
    "        for r in rules:\n",
    "            if sorted(r[0]) == sorted(obj_conditions):\n",
    "                print(f\"{obj}: {r[1]}\")\n",
    "                stillGoing = False\n",
    "        \n",
    "        if stillGoing == True:\n",
    "            # match has been found, this is knew knowledge\n",
    "            print(f\"{obj}: is a new object\")\n",
    "            \n",
    "                "
   ]
  },
  {
   "cell_type": "code",
   "execution_count": 9,
   "id": "4d39dbdd",
   "metadata": {},
   "outputs": [
    {
     "name": "stdout",
     "output_type": "stream",
     "text": [
      "These are the objects I known something about: ['Fruit A', 'Fruit B']\n",
      "\n",
      "Fruit A: isApple\n",
      "Fruit B: is a new object\n"
     ]
    }
   ],
   "source": [
    "check_facts(facts)"
   ]
  }
 ],
 "metadata": {
  "kernelspec": {
   "display_name": "Python 3 (ipykernel)",
   "language": "python",
   "name": "python3"
  },
  "language_info": {
   "codemirror_mode": {
    "name": "ipython",
    "version": 3
   },
   "file_extension": ".py",
   "mimetype": "text/x-python",
   "name": "python",
   "nbconvert_exporter": "python",
   "pygments_lexer": "ipython3",
   "version": "3.9.12"
  }
 },
 "nbformat": 4,
 "nbformat_minor": 5
}
