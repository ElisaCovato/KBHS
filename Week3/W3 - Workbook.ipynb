{
 "cells": [
  {
   "cell_type": "markdown",
   "id": "5a31212a",
   "metadata": {},
   "source": [
    "# Networks and ontologies"
   ]
  },
  {
   "cell_type": "markdown",
   "id": "c8a1070f",
   "metadata": {},
   "source": [
    "This workbook explores the concept of **semantic networks** and **ontologies** in Python and how to visualise them.\n",
    "\n",
    "Throughout the notebook you will use two libraries, namely NetworkX and Owlready2. You will find some guided examples to aid your understanding, and some exercises for you to implement on your own.\n",
    "\n",
    "#### Content:\n",
    "* [NetworkX](#nx)\n",
    "    * [Getting started](#nx-start)\n",
    "    * [Exercise 1 - sympton/conditions network](#nx-ex)\n",
    "* [Owlready2](#owl)\n",
    "    * [Getting started](#owl-start)\n",
    "    * [Exercise 2 - food ontology](#owl-ex)"
   ]
  },
  {
   "cell_type": "markdown",
   "id": "954b0b6e",
   "metadata": {},
   "source": [
    "## NetworkX <a class=\"anchor\" id=\"nx\"></a>"
   ]
  },
  {
   "cell_type": "markdown",
   "id": "559750e7",
   "metadata": {},
   "source": [
    "Semantic networks are **graphical** representations of knowledge, used to organise and visualise relationships between concepts. They are often visualised as **graphs**, where nodes/concepts are connected by edges/relationships. \n",
    "\n",
    "**[NetworkX](https://networkx.org/documentation/stable)** is a python library for creating, visualise and analyse graphs in python. \n",
    "\n",
    "Let's start!"
   ]
  },
  {
   "cell_type": "markdown",
   "id": "86b85113",
   "metadata": {},
   "source": [
    "### Getting started <a class=\"anchor\" id=\"nx-start\"></a>"
   ]
  },
  {
   "cell_type": "code",
   "execution_count": null,
   "id": "af66b78b",
   "metadata": {},
   "outputs": [],
   "source": [
    "# uncomment the cells below to install networkx\n",
    "# ! pip install --upgrade pip\n",
    "# ! pip install networkx\n",
    "\n",
    "import networkx as nx\n",
    "import matplotlib.pyplot as plt # this will be needed to visualise the graph object"
   ]
  },
  {
   "cell_type": "markdown",
   "id": "4fae7308",
   "metadata": {},
   "source": [
    "We first start to create an empty graph:"
   ]
  },
  {
   "cell_type": "code",
   "execution_count": null,
   "id": "6f58db00",
   "metadata": {},
   "outputs": [],
   "source": [
    "G = nx.Graph()"
   ]
  },
  {
   "cell_type": "markdown",
   "id": "1b2fc280",
   "metadata": {},
   "source": [
    "We then add **nodes**:"
   ]
  },
  {
   "cell_type": "code",
   "execution_count": null,
   "id": "3f79dbd4",
   "metadata": {},
   "outputs": [],
   "source": [
    "animals = [\"Lion\", \"Tiger\", \"Elephant\", \"Giraffe\", \"Zebra\"]\n",
    "diet = [\"Carnivore\", \"Herbivore\"]\n",
    "food = [\"Meat\", \"Grass\"]\n",
    "habitat = [\"Savanna\", \"Grassland\"]\n",
    "    \n",
    "G.add_nodes_from(animals)\n",
    "G.add_nodes_from(diet)\n",
    "G.add_nodes_from(food)\n",
    "G.add_nodes_from(habitat)"
   ]
  },
  {
   "cell_type": "markdown",
   "id": "7c14572b",
   "metadata": {},
   "source": [
    "We now want to add **edges**, relationships among our nodes. For example, we know that 'Lion is a carnivore', 'Herbivore eats grass', and 'Zebras lives in grassland locations'.\n",
    "\n",
    "In a semantic network, relationships have 'names', so we will label edges using the `{\"label\": <name>}` construct."
   ]
  },
  {
   "cell_type": "code",
   "execution_count": null,
   "id": "bc8ba2f3",
   "metadata": {},
   "outputs": [],
   "source": [
    "relationships = [(\"Lion\", \"Carnivore\", {\"label\": \"is_a\"}),\n",
    "                  (\"Tiger\", \"Carnivore\", {\"label\": \"is_a\"}),\n",
    "                  (\"Elephant\", \"Herbivore\", {\"label\": \"is_a\"}),\n",
    "                  (\"Giraffe\", \"Herbivore\", {\"label\": \"is_a\"}),\n",
    "                  (\"Zebra\", \"Herbivore\", {\"label\": \"is_a\"}),\n",
    "                  (\"Carnivore\", \"Meat\", {\"label\": \"eats\"}),\n",
    "                  (\"Herbivore\", \"Grass\", {\"label\": \"eats\"}),\n",
    "                  (\"Lion\", \"Savanna\", {\"label\": \"lives_in\"}),\n",
    "                  (\"Tiger\", \"Savanna\", {\"label\": \"lives_in\"}),\n",
    "                  (\"Elephant\", \"Grassland\", {\"label\": \"lives_in\"}),\n",
    "                  (\"Giraffe\", \"Savanna\", {\"label\": \"lives_in\"}),\n",
    "                  (\"Zebra\", \"Grassland\", {\"label\": \"lives_in\"})]\n",
    "\n",
    "\n",
    "G.add_edges_from(relationships)"
   ]
  },
  {
   "cell_type": "markdown",
   "id": "fd6c17f7",
   "metadata": {},
   "source": [
    "Let's now plot the complete graph. \n",
    "\n",
    "Note that, in networkX there are different [**layout**](https://networkx.org/documentation/stable/reference/drawing.html#module-networkx.drawing.layout) functions that determine the position of edges and nodes within the plot, based on different algorithms and criterias."
   ]
  },
  {
   "cell_type": "code",
   "execution_count": null,
   "id": "9765694b",
   "metadata": {},
   "outputs": [],
   "source": [
    "# use matplotlib features to set plot size for display\n",
    "plt.figure(figsize=(12, 12))\n",
    "\n",
    "# We will use the kamada-kawai layout\n",
    "pos = nx.kamada_kawai_layout(G)\n",
    "\n",
    "# draw graph\n",
    "nx.draw_networkx(G, \n",
    "                 pos, # layout\n",
    "                 with_labels=True, #add nodes' names\n",
    "                 node_size=2000, node_color = 'lightblue',\n",
    "                 font_size=10, \n",
    "                 arrows = True, arrowstyle='->', arrowsize=15)\n",
    "\n",
    "# add labels to edges\n",
    "edge_labels = nx.get_edge_attributes(G, \"label\")\n",
    "nx.draw_networkx_edge_labels(G, pos, edge_labels=edge_labels)\n",
    "\n",
    "# display plot\n",
    "plt.show()"
   ]
  },
  {
   "cell_type": "markdown",
   "id": "f61343b6",
   "metadata": {},
   "source": [
    "We now have a knowledge base in the form of a graph, so let's see how we can access such knowledge."
   ]
  },
  {
   "cell_type": "code",
   "execution_count": null,
   "id": "095a15fb",
   "metadata": {},
   "outputs": [],
   "source": [
    "# list all the nodes adjacent (=connected) to a specific node\n",
    "G['Lion']"
   ]
  },
  {
   "cell_type": "code",
   "execution_count": null,
   "id": "0aba4ada",
   "metadata": {},
   "outputs": [],
   "source": [
    "# check if there is a path between two nodes, i.e. there a series of nodes and edges connecting the two nodes somehow\n",
    "print('Path between Lion and Meat:', \n",
    "      nx.has_path(G, source='Lion', target='Meat') )   "
   ]
  },
  {
   "cell_type": "code",
   "execution_count": null,
   "id": "995b81ad",
   "metadata": {},
   "outputs": [],
   "source": [
    "print('Path between Lion and Grass:', \n",
    "      nx.has_path(G, source='Lion', target='Grass') ) "
   ]
  },
  {
   "cell_type": "markdown",
   "id": "17e9911a",
   "metadata": {},
   "source": [
    "The previous answer is somehow correct and incorrect! \n",
    "\n",
    "Technically, there is indeed a path that links the node 'Lion' with the node 'Grass': Lion - Savanna - Giraffe - Herbivore - Grass. However, we know that this does not make sense, given the nature and **direction** of the relationship. \n",
    "\n",
    "The error generates because we have not specified that our graph is **directed**! So let's transform the graph into a **directed graph**, and infer some (correct) knowledge."
   ]
  },
  {
   "cell_type": "code",
   "execution_count": null,
   "id": "2d374d2d",
   "metadata": {},
   "outputs": [],
   "source": [
    "# Create a directed graph\n",
    "D = nx.DiGraph()\n",
    "\n",
    "D.add_nodes_from(animals)\n",
    "D.add_nodes_from(diet)\n",
    "D.add_nodes_from(food)\n",
    "D.add_nodes_from(habitat)\n",
    "\n",
    "D.add_edges_from(relationships)\n",
    "\n",
    "# plot the graph - we will not need to specify arrows=True\n",
    "plt.figure(figsize=(14, 14))\n",
    "pos = nx.planar_layout(D)\n",
    "\n",
    "nx.draw_networkx(D, \n",
    "                 pos, # layout\n",
    "                 with_labels=True, #add nodes' names\n",
    "                 node_size=2000, node_color = 'lightblue',\n",
    "                 font_size=10,arrowstyle='->', arrowsize=15)\n",
    "\n",
    "edge_labels = nx.get_edge_attributes(D, \"label\")\n",
    "nx.draw_networkx_edge_labels(D, pos, edge_labels=edge_labels)\n",
    "\n",
    "plt.show()"
   ]
  },
  {
   "cell_type": "code",
   "execution_count": null,
   "id": "73809822",
   "metadata": {},
   "outputs": [],
   "source": [
    "# list all the nodes adjacent (=connected) to a specific node\n",
    "D['Lion']"
   ]
  },
  {
   "cell_type": "code",
   "execution_count": null,
   "id": "debc34f4",
   "metadata": {},
   "outputs": [],
   "source": [
    "# check if there is a path between two nodes, i.e. there a series of nodes and edges connecting the two nodes somehow\n",
    "print('Path between Lion and Meat:', \n",
    "      nx.has_path(D, source='Lion', target='Meat') )   \n",
    "print('Path between Lion and Grass:', \n",
    "      nx.has_path(D, source='Lion', target='Grass') ) "
   ]
  },
  {
   "cell_type": "markdown",
   "id": "38ecad0d",
   "metadata": {},
   "source": [
    "**Question**: what does the Lion eat?"
   ]
  },
  {
   "cell_type": "code",
   "execution_count": null,
   "id": "4d6aabfc",
   "metadata": {},
   "outputs": [],
   "source": [
    "# option 1: for each possible foods find if there is paths between it and Lion\n",
    "# this option works if you know the objects/concepts in your graph\n",
    "\n",
    "for f in food:\n",
    "    if nx.has_path(D, source='Lion', target=f):\n",
    "        print('Lion eats {}'.format(f))\n",
    "    else:\n",
    "        print('Lion does not eat {}'.format(f))\n"
   ]
  },
  {
   "cell_type": "code",
   "execution_count": null,
   "id": "52dabea8",
   "metadata": {},
   "outputs": [],
   "source": [
    "# option 2: iterate through all the edges called 'eats' find the nodes it points to, check if there is a path with 'Lion'\n",
    "# this option works if you know the relationships' in your graph\n",
    "for (node1, node2, label) in D.edges.data('label'):\n",
    "     if label == 'eats':\n",
    "            # edge goes from node1 to node2, i.e. 'node1' eats 'node2'\n",
    "            food = node2 \n",
    "            # check path\n",
    "            if nx.has_path(D, 'Lion', food):\n",
    "                print('Lion eats {}'.format(food))"
   ]
  },
  {
   "cell_type": "markdown",
   "id": "baddee75",
   "metadata": {},
   "source": [
    "### Exercise 1 <a class=\"anchor\" id=\"nx-ex\"></a>"
   ]
  },
  {
   "cell_type": "markdown",
   "id": "2edefdee",
   "metadata": {},
   "source": [
    "You have been tasked with creating a semantic network that connects symptoms, related conditions, and possible treatments.\n",
    "\n",
    "The list of conditions, symptoms and treatments is:\n",
    "\n",
    "- Conditions: diabetes, hypertension, asthma\n",
    "- Symptoms: polydipsia, polyuria, fatigue, headaches, shortness of breath, blurred vision, chest pain, dizziness\n",
    "- Treatments: insulin therapy, blood pressure medication, inhaled corticosteroids, pain relievers\n",
    "\n",
    "You also know that: \n",
    "\n",
    "Condition: Symptoms\n",
    "\n",
    "- Diabetes: polydipsia, polyuria, fatigue, blurred vision\n",
    "- Hypertension: fatigue, headaches, shortness of breath, chest pain, dizziness\n",
    "- Ashtma: fatigue, shortness of breath\n",
    "\n",
    "Treatments: Symptoms\n",
    "- Insulin therapy:  polydipsia, polyuria\n",
    "- Blood pressure medication:  fatigue, headaches, chest pain, dizziness\n",
    "- Inhaled corticosteroids:  shortness of breath, chest pain\n",
    "- Pain relievers:  headaches"
   ]
  },
  {
   "cell_type": "markdown",
   "id": "07a81ed7",
   "metadata": {},
   "source": [
    "**Task1**\n",
    "\n",
    "Create a semantic network (directed graph) using the knowledge listed above."
   ]
  },
  {
   "cell_type": "code",
   "execution_count": null,
   "id": "da4aab21",
   "metadata": {},
   "outputs": [],
   "source": [
    "# write here your code"
   ]
  },
  {
   "cell_type": "markdown",
   "id": "87c1fb72",
   "metadata": {},
   "source": [
    "**Task2**\n",
    "\n",
    "Answer the following questions:\n",
    "\n",
    "- **Q1**: What are the best treatments for a patient with diabetes?\n",
    "- **Q2**: A patient has dizziness and fatigue. What is a possible condition?"
   ]
  },
  {
   "cell_type": "code",
   "execution_count": null,
   "id": "f0daadd0",
   "metadata": {},
   "outputs": [],
   "source": [
    "# write here your code"
   ]
  },
  {
   "cell_type": "markdown",
   "id": "42fa360b",
   "metadata": {},
   "source": [
    "## Owlready2 <a class=\"anchor\" id=\"owl\"></a>"
   ]
  },
  {
   "cell_type": "markdown",
   "id": "5a59e0ac",
   "metadata": {},
   "source": [
    "In knowledge-base we use **ontologies** to formalise the representation of knowledge in specific, wide domain.\n",
    "\n",
    "**[Owlready2](https://owlready2.readthedocs.io/en/latest/)** is a python library for working with ontologies, particularly those expressed in the [Web Ontology Language (OWL)](https://en.wikipedia.org/wiki/Web_Ontology_Language).\n",
    "\n",
    "\n",
    "Let's start!"
   ]
  },
  {
   "cell_type": "markdown",
   "id": "c7a61070",
   "metadata": {},
   "source": [
    "### Getting started <a class=\"anchor\" id=\"owl-start\"></a>"
   ]
  },
  {
   "cell_type": "code",
   "execution_count": null,
   "id": "ddae4289",
   "metadata": {},
   "outputs": [],
   "source": [
    "# uncomment the cells below to install owlready\n",
    "# ! pip install --upgrade pip\n",
    "# ! pip install owlready2\n",
    "\n",
    "import owlready2 as owl"
   ]
  },
  {
   "cell_type": "markdown",
   "id": "10648659",
   "metadata": {},
   "source": [
    "We first create an empty ontology using `get_ontology()` function: it takes a single parameter, the IRI (sort of URL, used to identify ontologies) of the ontology:"
   ]
  },
  {
   "cell_type": "code",
   "execution_count": null,
   "id": "0400d3de",
   "metadata": {},
   "outputs": [],
   "source": [
    "# create empty ontology of countries and associate it a IRI\n",
    "onto = owl.get_ontology(\"http://test.org/onto_pays.owl\")"
   ]
  },
  {
   "cell_type": "markdown",
   "id": "cd5814f3",
   "metadata": {},
   "source": [
    "Our ontology is empty and needs to be populated with concepts, properties, rules and individuals.\n",
    "\n",
    "We start by adding the [**classes and properties**](https://owlready2.readthedocs.io/en/latest/class.html) to our ontology.\n",
    "\n",
    "All the classess in owlready are subclassess of the `Thing` class, already embedded in an ontology. The `Thing` class is typically used as a starting point when defining new classes or creating instances in an ontology. It provides a foundation for organising and categorising different concepts within the ontology, create a hierarchy of more specific classes and define relationships between them.\n",
    "\n",
    "What follows is an adaptation of the [pays ontology](https://github.com/KaziPratique/Ontologies-Owlready2/blob/main/code.py)."
   ]
  },
  {
   "cell_type": "code",
   "execution_count": null,
   "id": "4c2682ec",
   "metadata": {},
   "outputs": [],
   "source": [
    "# add classess and properties to the ontology\n",
    "\n",
    "with onto:\n",
    "    # main classes (directly depending from 'Thing'): Country, Region, City\n",
    "    class Country(owl.Thing): pass\n",
    "    class Region(owl.Thing): pass\n",
    "    class City(owl.Thing): pass\n",
    "    \n",
    "    # disjoint class: each individual we'll create cannot belong to multiple classes at the same time\n",
    "    owl.AllDisjoint([Country, Region, City])\n",
    "    \n",
    "    # this construct is used to create a transitive property to embed in our subclassess logic\n",
    "    class part_of(owl.Thing >> owl.Thing, owl.TransitiveProperty): pass\n",
    "    \n",
    "    # create properties to connect classes in a hierarchical way\n",
    "    class in_country(part_of): pass    \n",
    "    class in_region(part_of): pass\n",
    "    \n",
    "    # create a subclass for the City class\n",
    "    class population(City >> int): pass   \n",
    "    \n",
    "    # these classess will be inferred, i.e. individual city will be associated to one of these \n",
    "    # two classes through specific rules based on the population property\n",
    "    class BigCity(City): pass\n",
    "    class SmallCity(City): pass\n"
   ]
  },
  {
   "cell_type": "markdown",
   "id": "a8a50681",
   "metadata": {},
   "source": [
    "Let's look at our ontology so far."
   ]
  },
  {
   "cell_type": "code",
   "execution_count": null,
   "id": "2b13a334",
   "metadata": {},
   "outputs": [],
   "source": [
    "# list classes\n",
    "list(onto.classes())"
   ]
  },
  {
   "cell_type": "code",
   "execution_count": null,
   "id": "61085def",
   "metadata": {},
   "outputs": [],
   "source": [
    "# list properties\n",
    "list(onto.properties())"
   ]
  },
  {
   "cell_type": "markdown",
   "id": "651bf58c",
   "metadata": {},
   "source": [
    "To infer values for the classes `BigCity` and `SmallCity` based on the population property we need to define some **rules**. These rules will allow you to automatically assign the appropriate class to each individual city based on its population.\n",
    "\n",
    "In owlready2, rules are initialised using the `Imp()` and then set with `.set_as_rule()`, using a [Protégé](https://en.wikipedia.org/wiki/Prot%C3%A9g%C3%A9_(software))-like syntax"
   ]
  },
  {
   "cell_type": "code",
   "execution_count": null,
   "id": "f5068038",
   "metadata": {},
   "outputs": [],
   "source": [
    "with onto:\n",
    "    \n",
    "    #set rules\n",
    "    owl.Imp().set_as_rule(\"City(?c), population(?c, ?pop), greaterThan(?pop, 200000) ->BigCity(?c)\")\n",
    "    owl.Imp().set_as_rule(\"City(?c), population(?c, ?pop), lessThan(?pop, 50000) -> SmallCity(?c)\")"
   ]
  },
  {
   "cell_type": "markdown",
   "id": "46c7bc1e",
   "metadata": {},
   "source": [
    "Now, it's time to add **individuals**, in other words we want to populate the ontology with actual instances."
   ]
  },
  {
   "cell_type": "code",
   "execution_count": null,
   "id": "f44db956",
   "metadata": {},
   "outputs": [],
   "source": [
    "with onto:\n",
    "    \n",
    "    # add country\n",
    "    uk = Country(\"UK\")\n",
    "    # add regions\n",
    "    south_west = Region(\"South West\", in_country = [uk])\n",
    "    north_east = Region(\"North East\", in_country = [uk])\n",
    "    \n",
    "    bristol = City(\"Bristol\", in_region = [south_west])\n",
    "    bristol.population.append(463400)\n",
    "    \n",
    "    wells = City(\"Wells\", in_region = [south_west])\n",
    "    wells.population.append(11000)\n",
    "    \n",
    "    exeter = City(\"Exeter\", in_region = [south_west])\n",
    "    exeter.population.append(131000)\n",
    "    \n",
    "    newcastle = City(\"Newcastle\", in_region = [north_east])\n",
    "    newcastle.population.append(300000)\n",
    "    \n",
    "    durham = City(\"Durham\", in_region = [north_east])\n",
    "    durham.population.append(48000)\n",
    "    \n",
    "    # this is like AllDisjoint but for instances\n",
    "    owl.AllDifferent([bristol, wells, exeter, newcastle, durham])"
   ]
  },
  {
   "cell_type": "code",
   "execution_count": null,
   "id": "a66f4f6c",
   "metadata": {},
   "outputs": [],
   "source": [
    "# list instances\n",
    "list(onto.individuals())"
   ]
  },
  {
   "cell_type": "markdown",
   "id": "9fb7c4c5",
   "metadata": {},
   "source": [
    "Let's save the ontology, this will allow us to upload it and visualise it in [WebOwl](https://service.tib.eu/webvowl/)."
   ]
  },
  {
   "cell_type": "code",
   "execution_count": null,
   "id": "3885a1ac",
   "metadata": {},
   "outputs": [],
   "source": [
    "onto.save(file=\"./cities.owl\")"
   ]
  },
  {
   "cell_type": "markdown",
   "id": "9c2a6945",
   "metadata": {},
   "source": [
    "**[The following requires to a java installation! Feel free to skip it]**\n",
    "\n",
    "**OWL reasoner** can be used to verify the coherence of an ontology and inferring new information within it. OWL reasoners are written in Java, and thus you need a Java Virtual Machine to perform inference. \n",
    "\n",
    "Under Linux or MacOS, owlready2 should automatically find Java. Under Windows, you will need to specify the path of the java interpreter.\n",
    "\n",
    "_Please, install java if you don't have it already, and find the path of java.exe_"
   ]
  },
  {
   "cell_type": "code",
   "execution_count": null,
   "id": "d75024b3",
   "metadata": {},
   "outputs": [],
   "source": [
    "# if in windows specify java.exe path \n",
    "# change <path> with your own path\n",
    "\n",
    "owl.JAVA_EXE = \"C:\\\\Program Files\\\\Java\\\\jdk-21.0.1\\\\bin\\\\java.exe\""
   ]
  },
  {
   "cell_type": "markdown",
   "id": "4580ad81",
   "metadata": {},
   "source": [
    "There are three different [reasoners](https://owlready2.readthedocs.io/en/latest/reasoning.html) in owlready2. Since we have inferred classes, we will use the Pellet reasoners that allows to look up for values."
   ]
  },
  {
   "cell_type": "code",
   "execution_count": null,
   "id": "c2db0b8d",
   "metadata": {},
   "outputs": [],
   "source": [
    "# start resoning\n",
    "with onto:\n",
    "    owl.sync_reasoner_pellet(infer_property_values = True, infer_data_property_values = True)"
   ]
  },
  {
   "cell_type": "code",
   "execution_count": null,
   "id": "112f97aa",
   "metadata": {},
   "outputs": [],
   "source": [
    "# Query: is Bristol a big city?\n",
    "print('Bristol population:', onto.Bristol.population)\n",
    "print('Bristol a big city:', onto.Bristol in onto.BigCity.instances())"
   ]
  },
  {
   "cell_type": "markdown",
   "id": "e2918b4c",
   "metadata": {},
   "source": [
    "### Exercise 2 <a class=\"anchor\" id=\"owl-ex\"></a>"
   ]
  },
  {
   "cell_type": "markdown",
   "id": "b5aa714e",
   "metadata": {},
   "source": [
    "We want to know which of the cities in our ontology has the highest population density (city area divided by population)."
   ]
  },
  {
   "cell_type": "markdown",
   "id": "95161bb8",
   "metadata": {},
   "source": [
    "**Task1**\n",
    "\n",
    " Add the `area` subclass to each city, as done for population."
   ]
  },
  {
   "cell_type": "code",
   "execution_count": null,
   "id": "ded10ce4",
   "metadata": {},
   "outputs": [],
   "source": [
    "# write here your code"
   ]
  },
  {
   "cell_type": "markdown",
   "id": "7b73dfd9",
   "metadata": {},
   "source": [
    "**Task2**\n",
    "\n",
    "Add a rule to compute the density for each city. Tip: use a [functional property](https://owlready2.readthedocs.io/en/latest/rule.html).\n"
   ]
  },
  {
   "cell_type": "code",
   "execution_count": null,
   "id": "25ce19a6",
   "metadata": {},
   "outputs": [],
   "source": [
    "# write here your code"
   ]
  },
  {
   "cell_type": "markdown",
   "id": "3d52b97b",
   "metadata": {},
   "source": [
    "**Task3**\n",
    "\n",
    "Question: which city has the highest density?"
   ]
  },
  {
   "cell_type": "code",
   "execution_count": null,
   "id": "41afb4c9",
   "metadata": {},
   "outputs": [],
   "source": [
    "# write here your code"
   ]
  }
 ],
 "metadata": {
  "kernelspec": {
   "display_name": "Python 3 (ipykernel)",
   "language": "python",
   "name": "python3"
  },
  "language_info": {
   "codemirror_mode": {
    "name": "ipython",
    "version": 3
   },
   "file_extension": ".py",
   "mimetype": "text/x-python",
   "name": "python",
   "nbconvert_exporter": "python",
   "pygments_lexer": "ipython3",
   "version": "3.9.12"
  }
 },
 "nbformat": 4,
 "nbformat_minor": 5
}
