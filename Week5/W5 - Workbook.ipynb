{
 "cells": [
  {
   "cell_type": "markdown",
   "id": "5a31212a",
   "metadata": {},
   "source": [
    "# Bayesian Network"
   ]
  },
  {
   "cell_type": "markdown",
   "id": "c8a1070f",
   "metadata": {},
   "source": [
    "This workbook explores the concept of **bayesian networks** and **probabilistic reasoning** in Python. \n",
    "\n",
    "Throughout this notebook, you will use pgmpy, one of the most popular python library to work with [probabilistic graphical models](https://en.wikipedia.org/wiki/Graphical_model).You will find some guided examples to aid your understanding, and some exercises for you to implement on your own.\n",
    "\n",
    "#### Content:\n",
    "* [pgmpy](#pgmpy)\n",
    "    * [Getting started](#pgmpy-start)\n",
    "    * [Exercise 1 - easy](#pgmpy-ex1)\n",
    "    * [Exercise 2 - moderate](#pgmpy-ex2)"
   ]
  },
  {
   "cell_type": "markdown",
   "id": "954b0b6e",
   "metadata": {},
   "source": [
    "## pgmpy<a class=\"anchor\" id=\"pgmpy\"></a>"
   ]
  },
  {
   "cell_type": "markdown",
   "id": "559750e7",
   "metadata": {},
   "source": [
    "**[pgmpy](https://pgmpy.org/)** is a python library for creating, visualise and query probabilistic graphical models (PGM), offering tools for Bayesian networks and Markov networks modeling.\n",
    "\n",
    "In what follows, we will use the library specifically to work with Bayesian networks, which are part of this module learning. However, the library provides a whole range of functionalities for implementing probabilistic tasks on PGMs.\n",
    "\n",
    "Let's start!"
   ]
  },
  {
   "cell_type": "markdown",
   "id": "86b85113",
   "metadata": {},
   "source": [
    "### Getting started <a class=\"anchor\" id=\"pgmpy-start\"></a>"
   ]
  },
  {
   "cell_type": "code",
   "execution_count": 1,
   "id": "af66b78b",
   "metadata": {},
   "outputs": [],
   "source": [
    "# uncomment the cells below to install pgmpy\n",
    "# ! pip install --upgrade pip\n",
    "# ! pip install pgmpy"
   ]
  },
  {
   "cell_type": "code",
   "execution_count": null,
   "id": "d42d1a53",
   "metadata": {},
   "outputs": [],
   "source": [
    "# We'll access these functions throughout the notebook, to better undertstand what they refer to and when to use them\n",
    "# In an actual project, you might want to import them into python at the beginning\n",
    "\n",
    "# from pgmpy.models import BayesianNetwork\n",
    "# from pgmpy.factors.discrete import TabularCPD\n",
    "# from pgmpy.inference import BeliefPropagation\n",
    "\n",
    "import networkx as nx\n",
    "import matplotlib.pyplot as plt "
   ]
  },
  {
   "cell_type": "markdown",
   "id": "4fae7308",
   "metadata": {},
   "source": [
    "During Week 5 lecture we have introduced the concept of Bayesian Network using the **burglar alarm case study**:\n",
    "\n",
    "\n",
    "\n",
    ">_You have a new burglar alarm installed at home. It is fairly reliable at detecting a burglary, but is occasionally\n",
    "set off by minor earthquakes. You also have two neighbors, John and Mary, who have promised to call\n",
    "you at work when they hear the alarm. John nearly always calls when he hears the alarm, but\n",
    "sometimes confuses the telephone ringing with the alarm and calls then, too. Mary, on the\n",
    "other hand, likes rather loud music and often misses the alarm altogether._\n",
    "\n",
    "(Case study synopsis from Chapter 13 of _Russell, Norvig – Aritificial Intelligence, a Modern approach (2021)_)\n",
    "\n",
    "\n",
    "The specific components of the network can be visualised as below:\n",
    "\n",
    "<figure>\n",
    "<img src=\"alarm_network.png\" alt=\"BN network\" style=\"width: 500px;\"/>\n",
    "<figcaption style=\"text-align:center;font-style:italic\">(from Russell, Norvig – Aritificial Intelligence, a Modern approach (2021)) </figcaption>    \n",
    "</figure>\n",
    " \n",
    " \n",
    "Let's implement the network using pgmpy."
   ]
  },
  {
   "cell_type": "markdown",
   "id": "9e7cabdb",
   "metadata": {},
   "source": [
    "We first start with creating the network structure."
   ]
  },
  {
   "cell_type": "code",
   "execution_count": null,
   "id": "6f58db00",
   "metadata": {},
   "outputs": [],
   "source": [
    "from pgmpy.models import BayesianNetwork"
   ]
  },
  {
   "cell_type": "code",
   "execution_count": null,
   "id": "fe750481",
   "metadata": {},
   "outputs": [],
   "source": [
    "# Create network structure, add nodes and edges\n",
    "bn_structure = [\n",
    "    (\"Burglary\", \"Alarm\"),\n",
    "    (\"Earthquake\", \"Alarm\"),\n",
    "    (\"Alarm\", \"JohnCalls\"),\n",
    "    (\"Alarm\", \"MaryCalls\")\n",
    "]\n",
    "\n",
    "alarm_model = BayesianNetwork(bn_structure)"
   ]
  },
  {
   "cell_type": "code",
   "execution_count": null,
   "id": "e4878ebc",
   "metadata": {},
   "outputs": [],
   "source": [
    "print('Model:', alarm_model)\n",
    "print('Nodes:', alarm_model.nodes())\n",
    "print('Edges:', alarm_model.edges())"
   ]
  },
  {
   "cell_type": "markdown",
   "id": "90f5911e",
   "metadata": {},
   "source": [
    "We can use NetworkX library to plot the network"
   ]
  },
  {
   "cell_type": "code",
   "execution_count": null,
   "id": "fe303aa6",
   "metadata": {},
   "outputs": [],
   "source": [
    "# Plot the Bayesian network\n",
    "\n",
    "nx.draw(alarm_model, \n",
    "        with_labels=True, \n",
    "        node_size=2000, node_color = 'lightblue',\n",
    "        font_size=10, \n",
    "        arrows = True, arrowstyle='->', arrowsize=15,\n",
    "        pos=nx.circular_layout(alarm_model))\n",
    "plt.show()"
   ]
  },
  {
   "cell_type": "markdown",
   "id": "deea1c85",
   "metadata": {},
   "source": [
    "Let's now add the Conditional Probability Distributions (CPD), in other words the probability tables associated to each node. In pgmpy this is done using `TabularCPD`. The parameters needed are:\n",
    "\n",
    "- `variable`: the node name to which the table is associated.\n",
    "- `variable_card`: number of states of the variable. In our case is 2 (true/false).\n",
    "- `values`: conditional probabilities associated to the specific variable/node.\n",
    "- `evidence`: list of variables w.r.t. the conditional probabilities are defined.\n",
    "- `evidence_card`:  number of states of the evidence nodes."
   ]
  },
  {
   "cell_type": "markdown",
   "id": "6c7c37c8",
   "metadata": {},
   "source": [
    "The node 'Burglary' and 'Earthquake' have _unconditional_ probabilities, in other words their true/false state does not depend from any other event/evidence."
   ]
  },
  {
   "cell_type": "code",
   "execution_count": null,
   "id": "3ed1adb4",
   "metadata": {},
   "outputs": [],
   "source": [
    "from pgmpy.factors.discrete import TabularCPD\n",
    "\n",
    "# burglary probability\n",
    "# False=0.999, True=0.001\n",
    "cpd_burglary = TabularCPD(\n",
    "    variable=\"Burglary\", \n",
    "    variable_card=2, \n",
    "    values=[[0.999], [0.001]]\n",
    ")\n",
    "\n",
    "# earthquake probability\n",
    "# False=0.998, True=0.002\n",
    "cpd_earthquake = TabularCPD(\n",
    "    variable=\"Earthquake\", \n",
    "    variable_card=2, \n",
    "    values=[[0.998], [0.002]]\n",
    ")"
   ]
  },
  {
   "cell_type": "markdown",
   "id": "56e7efa7",
   "metadata": {},
   "source": [
    "The node 'Alarm' is conditional on 'Burglary' and 'Earthquake', hence the True/False probability state depends on the True/False state of 'Burglary' and 'Earthquake'. Looking at the above picture, we can deduce the following table of possibilities (and associated probabilities):\n",
    "\n",
    "||||||\n",
    "|---------------|-------------------|------------------|-------------------|------------------|\n",
    "|               | **Burglary(False)**  | **Burglary(False)**  | **Burglary(True)**    | **Burglary(True)**  |\n",
    "|               | **Earthquake(False)** | **Earthquake(True)** | **Earthquake(False)** | **Earthquake(True)** |\n",
    "| **Alarm (False)** | 0.999             | 0.71             | 0.06              | 0.05             |\n",
    "| **Alarm(True)**   | 0.001             | 0.29             | 0.94              | 0.95             |\n",
    "\n",
    "Note that all columns sum up to 1. Infact, we have used the _main axiom of probability_, which states that all probabilities for an event sum up to 1, hence `P(Alarm=True)=1-P(Alarm=False)`.\n",
    "\n",
    "Let's create such table in pmgpy."
   ]
  },
  {
   "cell_type": "code",
   "execution_count": null,
   "id": "40ef86b2",
   "metadata": {},
   "outputs": [],
   "source": [
    "# alarm probability\n",
    "# False=[0.999, 0.71, 0.06, 0.05], True=[0.001, 0.29, 0.94, 0.95]\n",
    "\n",
    "cpd_alarm = TabularCPD(\n",
    "    variable=\"Alarm\",\n",
    "    variable_card=2,\n",
    "    values=[[0.999, 0.71, 0.06, 0.05], [0.001, 0.29, 0.94, 0.95]],\n",
    "    evidence=[\"Burglary\", \"Earthquake\"],\n",
    "    evidence_card=[2, 2],\n",
    ")"
   ]
  },
  {
   "cell_type": "markdown",
   "id": "ff1ab8b1",
   "metadata": {},
   "source": [
    "Finally, let's create the CPDs for the 'JohnCalls' and 'MaryCalls' nodes."
   ]
  },
  {
   "cell_type": "code",
   "execution_count": null,
   "id": "44d6ae6c",
   "metadata": {},
   "outputs": [],
   "source": [
    "# JohnCalls probability\n",
    "cpd_johncalls = TabularCPD(\n",
    "    variable=\"JohnCalls\",\n",
    "    variable_card=2,\n",
    "    values=[[0.95, 0.1], [0.05, 0.9]],\n",
    "    evidence=[\"Alarm\"],\n",
    "    evidence_card=[2],\n",
    ")\n",
    "\n",
    "# MaryCalls probability\n",
    "cpd_marycalls = TabularCPD(\n",
    "    variable=\"MaryCalls\",\n",
    "    variable_card=2,\n",
    "    values=[[0.9, 0.3], [0.1, 0.7]],\n",
    "    evidence=[\"Alarm\"],\n",
    "    evidence_card=[2],\n",
    ")"
   ]
  },
  {
   "cell_type": "markdown",
   "id": "7eafa37a",
   "metadata": {},
   "source": [
    "We can now add all the CPDs to the network."
   ]
  },
  {
   "cell_type": "code",
   "execution_count": null,
   "id": "119cc8cd",
   "metadata": {},
   "outputs": [],
   "source": [
    "alarm_model.add_cpds(\n",
    "    cpd_burglary, cpd_earthquake, cpd_alarm, cpd_johncalls, cpd_marycalls\n",
    ")"
   ]
  },
  {
   "cell_type": "markdown",
   "id": "6bc4efc8",
   "metadata": {},
   "source": [
    "Let's now do some checks to verify that our network is valid."
   ]
  },
  {
   "cell_type": "code",
   "execution_count": null,
   "id": "193a25a7",
   "metadata": {},
   "outputs": [],
   "source": [
    "# Print cpds, this is equivalent to the table created above with False=0, True=1\n",
    "print(alarm_model.get_cpds('Alarm'))"
   ]
  },
  {
   "cell_type": "code",
   "execution_count": null,
   "id": "a355aac9",
   "metadata": {},
   "outputs": [],
   "source": [
    "# Check if the cpds are valid for the model, hence all columns sums up to 1 \n",
    "alarm_model.check_model()"
   ]
  },
  {
   "cell_type": "code",
   "execution_count": null,
   "id": "f2505fe9",
   "metadata": {},
   "outputs": [],
   "source": [
    "# Check independencies\n",
    "# ⟂ = variables are independent\n",
    "# | = given an evidence\n",
    "\n",
    "alarm_model.get_independencies()"
   ]
  },
  {
   "cell_type": "markdown",
   "id": "872b8bea",
   "metadata": {},
   "source": [
    "From the above code we for example get that:\n",
    "- `(Burglary ⟂ Earthquake)`:  these two events are _independent_ from each other\n",
    "- `(Burglary ⟂ MaryCalls, JohnCalls | Alarm)`: _given_ the alarm ringing, a burglary is _independent_ from whether John or Mary will call.\n",
    "\n",
    "\n",
    "**Question**\n",
    "\n",
    "Given the meaning of `⟂ ` and `|`, what does `(JohnCalls ⟂ Earthquake, MaryCalls | Burglary, Alarm)` mean? "
   ]
  },
  {
   "cell_type": "markdown",
   "id": "1e7d62e4",
   "metadata": {},
   "source": [
    "**Inference**\n",
    "\n",
    "Let's now query our network. In pmgpy there are different inference methods, we will use **BeliefPropagation**, one of the very basic methods of inference in graphical models, which consist of following the network edges and compute the corresponding probabilities."
   ]
  },
  {
   "cell_type": "code",
   "execution_count": null,
   "id": "b9400a72",
   "metadata": {},
   "outputs": [],
   "source": [
    "from pgmpy.inference import BeliefPropagation\n",
    "\n",
    "# initialise the inference engine\n",
    "alarm_infer = BeliefPropagation(alarm_model)"
   ]
  },
  {
   "attachments": {},
   "cell_type": "markdown",
   "id": "5819b9ce",
   "metadata": {},
   "source": [
    "To query our inference engine we will use `.query` that takes two main parameters: a list of _variables_, and a dictionary of  _evidence_. For example for _P(a|b=0)_, a is our variable and b=0 the evidence.\n",
    "\n",
    "We want to answer the following question:\n",
    "- **Q1:** how likely is that Mary will call?\n",
    "- **Q2:** given John called, what is the probability that the an earthquake trigerred the alarm?\n",
    "- **Q3 (from lecture notes):** What is the probability that alarm has sounded, but neither a burglary nor an earthquake has occurred, and both John and Mary call?\n"
   ]
  },
  {
   "cell_type": "code",
   "execution_count": null,
   "id": "4a2cd4bc",
   "metadata": {},
   "outputs": [],
   "source": [
    "# Q1: how luckily is that Mary will call?\n",
    "# We need to compute P(MaryCalls)\n",
    "\n",
    "q1 = alarm_infer.query(variables=['MaryCalls'])\n",
    "print(q1)"
   ]
  },
  {
   "cell_type": "markdown",
   "id": "b78385cc",
   "metadata": {},
   "source": [
    "To fully answer our question we need to access the value in `MaryCalls(1)`"
   ]
  },
  {
   "cell_type": "code",
   "execution_count": null,
   "id": "ccce6275",
   "metadata": {},
   "outputs": [],
   "source": [
    "q1.values[1]"
   ]
  },
  {
   "cell_type": "markdown",
   "id": "a40039a6",
   "metadata": {},
   "source": [
    "For the _axiom of probability_, P(MaryCalls) is the sum of the probabilities of all the possible events (refer to the _probability model slides from Week5 lecture_)."
   ]
  },
  {
   "cell_type": "code",
   "execution_count": null,
   "id": "1a9c8a1a",
   "metadata": {},
   "outputs": [],
   "source": [
    "# Q2: given John called, what is the probability that the an earthquake trigerred the alarm?\n",
    "# We need to compute P(Earthquake=True, Alarm=True | JohnCalls=True)\n",
    "\n",
    "q2 = alarm_infer.query(variables=['Earthquake', 'Alarm'], evidence={'JohnCalls':1})\n",
    "print(q2)"
   ]
  },
  {
   "cell_type": "markdown",
   "id": "4b125812",
   "metadata": {},
   "source": [
    "The answer is given by the entry `Earthquake(1), Alarm(1)`."
   ]
  },
  {
   "cell_type": "code",
   "execution_count": null,
   "id": "d18122c4",
   "metadata": {},
   "outputs": [],
   "source": [
    "# We can also get the most likely situation given some variables and evidences \n",
    "q2_most_likely = alarm_infer.map_query(variables=['Earthquake', 'Alarm'], evidence={'JohnCalls':1})\n",
    "print(q2_most_likely)"
   ]
  },
  {
   "cell_type": "code",
   "execution_count": null,
   "id": "6efd566d",
   "metadata": {},
   "outputs": [],
   "source": [
    "# Q3: What is the probability that alarm has sounded, \n",
    "# but neither a burglary nor an earthquake has occurred, and both John and Mary call?\n",
    "\n",
    "# We need to compute P(Brglary=False,Eartquake=False, Alarm=True, MaryCalls=True, JohnCalls=True)\n",
    "\n",
    "q3 = alarm_infer.query(variables=['JohnCalls', 'MaryCalls', 'Alarm', 'Burglary','Earthquake'])\n",
    "print(q3)"
   ]
  },
  {
   "cell_type": "markdown",
   "id": "2712570f",
   "metadata": {},
   "source": [
    "The answer is given by the entry `JohnCalls(1) , MaryCalls(1) , Alarm(1) , Burglary(0) , Earthquake(0)`."
   ]
  },
  {
   "cell_type": "markdown",
   "id": "baddee75",
   "metadata": {},
   "source": [
    "### Exercise 1 <a class=\"anchor\" id=\"pgmpy-ex1\"></a>"
   ]
  },
  {
   "cell_type": "markdown",
   "id": "2edefdee",
   "metadata": {},
   "source": [
    "pmgpy allows you to import/export .bif files, also known as Bayesian Interchange Format files, these are specific file format used to represent Bayesian networks.\n",
    "\n",
    "\n",
    "\n"
   ]
  },
  {
   "cell_type": "code",
   "execution_count": null,
   "id": "f4fb65ad",
   "metadata": {},
   "outputs": [],
   "source": [
    "from pgmpy.readwrite import BIFReader"
   ]
  },
  {
   "cell_type": "markdown",
   "id": "4e5f1110",
   "metadata": {},
   "source": [
    "You have been provided wih .bif file called `asia.bif`. The network represents the process for diagnosing patients arriving at a clinic. Each node within the network represents a specific patient condition; for instance, \"asia\" signifies whether the patient has recently traveled to Asia; 'smoke' is linked to 'lung cancer' and 'bronchitis', etc.\n",
    "\n",
    "Let's read the file into memory."
   ]
  },
  {
   "cell_type": "code",
   "execution_count": null,
   "id": "5031ca45",
   "metadata": {},
   "outputs": [],
   "source": [
    "asia = BIFReader('./asia.bif').get_model()\n",
    "print(asia)"
   ]
  },
  {
   "cell_type": "markdown",
   "id": "07a81ed7",
   "metadata": {},
   "source": [
    "**Task1**\n",
    "\n",
    "Visualise the network using NetworkX. What are the nodes?"
   ]
  },
  {
   "cell_type": "code",
   "execution_count": null,
   "id": "da4aab21",
   "metadata": {},
   "outputs": [],
   "source": [
    "# write here your code"
   ]
  },
  {
   "cell_type": "markdown",
   "id": "87c1fb72",
   "metadata": {},
   "source": [
    "**Task2**\n",
    "\n",
    "What is the CPD table for 'bronchitis'?"
   ]
  },
  {
   "cell_type": "code",
   "execution_count": null,
   "id": "2c700e9c",
   "metadata": {},
   "outputs": [],
   "source": [
    "# write here your code"
   ]
  },
  {
   "cell_type": "markdown",
   "id": "85fe02c6",
   "metadata": {},
   "source": [
    "**Task3**\n",
    "\n",
    "Answer the following questions:\n",
    "\n",
    "* **Q1:** what is the probability that the patient has dyspnea?\n",
    "* **Q2:** given the patient is a smoker, is it more likely they have bronchitis or dyspnea?"
   ]
  },
  {
   "cell_type": "code",
   "execution_count": null,
   "id": "4719cf40",
   "metadata": {},
   "outputs": [],
   "source": [
    "# write here your code"
   ]
  },
  {
   "cell_type": "markdown",
   "id": "e2918b4c",
   "metadata": {},
   "source": [
    "### Exercise 2 <a class=\"anchor\" id=\"pgmpy-ex2\"></a>"
   ]
  },
  {
   "cell_type": "markdown",
   "id": "b5aa714e",
   "metadata": {},
   "source": [
    "So far we have worked with Bayesian networks already knowing the conditional probabilities associated to a set of variables. Given a set of sample data, how can we construct the corrresponding Bayesian network?\n",
    "\n",
    "Creating a Bayesian network from a sample of data can be split into two problems:\n",
    "\n",
    "- **Parameter learning**:  estimate the (conditional) probability distributions of the individual variables.\n",
    "\n",
    "- **Structure learning**: capture the dependencies between the variables.\n"
   ]
  },
  {
   "cell_type": "markdown",
   "id": "995a24ee",
   "metadata": {},
   "source": [
    "#### Parameter learning"
   ]
  },
  {
   "cell_type": "markdown",
   "id": "c9b2c9f4",
   "metadata": {},
   "source": [
    "Let's create some data"
   ]
  },
  {
   "cell_type": "code",
   "execution_count": null,
   "id": "f8f3356f",
   "metadata": {},
   "outputs": [],
   "source": [
    "import pandas as pd\n",
    "data = pd.DataFrame(data={'fruit': [\"banana\", \"apple\", \"banana\", \"apple\", \"banana\",\"apple\", \"banana\",\n",
    "                                    \"apple\", \"apple\", \"apple\", \"banana\", \"banana\", \"apple\", \"banana\",],\n",
    "                          'tasty': [\"yes\", \"no\", \"yes\", \"yes\", \"yes\", \"yes\", \"yes\",\n",
    "                                    \"yes\", \"yes\", \"yes\", \"yes\", \"no\", \"no\", \"no\"],\n",
    "                          'size': [\"large\", \"large\", \"large\", \"small\", \"large\", \"large\", \"large\",\n",
    "                                    \"small\", \"large\", \"large\", \"large\", \"large\", \"small\", \"small\"]})\n",
    "print(data)"
   ]
  },
  {
   "cell_type": "markdown",
   "id": "33ceefd2",
   "metadata": {},
   "source": [
    "From the dataset it is clear that 'tasty' depends from 'fruit' and 'size'. So we can create the folllowing network:"
   ]
  },
  {
   "cell_type": "code",
   "execution_count": null,
   "id": "5789b3df",
   "metadata": {},
   "outputs": [],
   "source": [
    "fruit_model = BayesianNetwork([('fruit', 'tasty'), ('size', 'tasty')]) "
   ]
  },
  {
   "cell_type": "markdown",
   "id": "29374f23",
   "metadata": {},
   "source": [
    "We want to estimate the values of the conditional probability distributions (CPDs), for the variables fruit, size, and tasty.\n",
    "\n",
    "A natural estimate for the CPDs is to simply count the frequencies, with which the variable states occure in the dataset. This is called [Maximum Likelihood Estimation (MLE)](https://en.wikipedia.org/wiki/Maximum_likelihood_estimation). This approach allows to create CPDs in a such way that P(data|fruit_model) is maximal."
   ]
  },
  {
   "cell_type": "code",
   "execution_count": null,
   "id": "9b5121ba",
   "metadata": {},
   "outputs": [],
   "source": [
    "from pgmpy.estimators import MaximumLikelihoodEstimator\n",
    "\n",
    "# estimate CPDs using MLE\n",
    "mle = MaximumLikelihoodEstimator(fruit_model, data)"
   ]
  },
  {
   "cell_type": "code",
   "execution_count": null,
   "id": "542d47e5",
   "metadata": {},
   "outputs": [],
   "source": [
    "# Estimate CPD for the variable 'tasty'\n",
    "print(mle.estimate_cpd('tasty'))"
   ]
  },
  {
   "cell_type": "markdown",
   "id": "95161bb8",
   "metadata": {},
   "source": [
    "**Task1**\n",
    "\n",
    " What is the probabily that a small apple is tasty?"
   ]
  },
  {
   "cell_type": "code",
   "execution_count": null,
   "id": "ded10ce4",
   "metadata": {},
   "outputs": [],
   "source": [
    "# write here your code"
   ]
  },
  {
   "cell_type": "markdown",
   "id": "d68b4472",
   "metadata": {},
   "source": [
    "**Task2**\n",
    "\n",
    "Modify the dataset (adding more 'fruit' entries, or modify the existing one). What is the CPD for tasty in the new model?"
   ]
  },
  {
   "cell_type": "code",
   "execution_count": null,
   "id": "0a829a56",
   "metadata": {},
   "outputs": [],
   "source": [
    "# write here your code"
   ]
  },
  {
   "cell_type": "markdown",
   "id": "7f17c664",
   "metadata": {},
   "source": [
    "#### Structure learning"
   ]
  },
  {
   "cell_type": "markdown",
   "id": "4275be25",
   "metadata": {},
   "source": [
    "In the example above we have set the model structure. however, with a big dataset, this might not always be possible.\n",
    "\n",
    "There are different techniques in pmgpy that we can use to learn the structure of the dataset. In what follows we will use the [hill climbing search](https://en.wikipedia.org/wiki/Hill_climbing), and we will measure the fit between model and data using the [Bayesian Information Criterion (BIC)](https://en.wikipedia.org/wiki/Bayesian_information_criterion) score."
   ]
  },
  {
   "cell_type": "code",
   "execution_count": null,
   "id": "e10cb67c",
   "metadata": {},
   "outputs": [],
   "source": [
    "# Createa random sample of data\n",
    "import numpy as np\n",
    "data = pd.DataFrame(np.random.randint(0, 3, size=(2500, 8)), columns=list('ABCDEFGH'))\n",
    "\n",
    "# Let's assume that values in A are the some of B & C, and H is given by the difference between G and A\n",
    "data['A'] += data['B'] + data['C']\n",
    "data['H'] = data['G'] - data['A']"
   ]
  },
  {
   "cell_type": "code",
   "execution_count": null,
   "id": "f92e04d9",
   "metadata": {},
   "outputs": [],
   "source": [
    "from pgmpy.estimators import HillClimbSearch, BicScore\n",
    "\n",
    "# compute the 'best' model edges\n",
    "hc = HillClimbSearch(data)\n",
    "best_model = hc.estimate(scoring_method=BicScore(data))\n",
    "print(best_model.edges())"
   ]
  },
  {
   "cell_type": "markdown",
   "id": "7cd2800e",
   "metadata": {},
   "source": [
    "The estimation produces edges among the A,B,C,G,H nodes leaving out all the others given the values are random and independent."
   ]
  },
  {
   "cell_type": "markdown",
   "id": "ae46c460",
   "metadata": {},
   "source": [
    "**Task1**\n",
    "\n",
    "Create a Bayesian network from the `best_model` and visualise the network in NetworkX."
   ]
  },
  {
   "cell_type": "code",
   "execution_count": null,
   "id": "2ebb263e",
   "metadata": {},
   "outputs": [],
   "source": [
    "# write here your code"
   ]
  },
  {
   "cell_type": "markdown",
   "id": "aa3b8044",
   "metadata": {},
   "source": [
    "**Task2**\n",
    "\n",
    "Using a Bayesian Estimator (`from pgmpy.estimators import BayesianEstimator`) estimates the CPDs for each variable. What is the probability of H given G?"
   ]
  },
  {
   "cell_type": "code",
   "execution_count": null,
   "id": "6effb5c2",
   "metadata": {},
   "outputs": [],
   "source": [
    "# write here your code"
   ]
  }
 ],
 "metadata": {
  "kernelspec": {
   "display_name": "Python 3 (ipykernel)",
   "language": "python",
   "name": "python3"
  },
  "language_info": {
   "codemirror_mode": {
    "name": "ipython",
    "version": 3
   },
   "file_extension": ".py",
   "mimetype": "text/x-python",
   "name": "python",
   "nbconvert_exporter": "python",
   "pygments_lexer": "ipython3",
   "version": "3.9.12"
  }
 },
 "nbformat": 4,
 "nbformat_minor": 5
}
