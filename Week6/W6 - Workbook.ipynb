{
 "cells": [
  {
   "cell_type": "markdown",
   "id": "5a31212a",
   "metadata": {},
   "source": [
    "# Fuzzy logic"
   ]
  },
  {
   "cell_type": "markdown",
   "id": "c8a1070f",
   "metadata": {},
   "source": [
    "This workbook explores the concepts of **fuzzy logic** and **fuzzy rules** in Python. \n",
    "\n",
    "Throughout this notebook, you will use scikit-fuzzy, a python library in the SciPy stack, which integrates well with numpy and scipy.You will find some guided examples to aid your understanding, and some exercises for you to implement on your own.\n",
    "\n",
    "#### Content:\n",
    "* [skfuzzy](#skfuzzy)\n",
    "    * [Getting started](#skfuzzy-start)\n",
    "    * [Exercise ](#skfuzzy-ex1)\n"
   ]
  },
  {
   "cell_type": "markdown",
   "id": "954b0b6e",
   "metadata": {},
   "source": [
    "## skfuzzy <a class=\"anchor\" id=\"skfuzzy\"></a>"
   ]
  },
  {
   "cell_type": "markdown",
   "id": "559750e7",
   "metadata": {},
   "source": [
    "**[skfuzzy](https://scikit-fuzzy.github.io/scikit-fuzzy/overview.html)** is a Python library to create fuzzy logic systems, offering tools to implement fuzzy sets, fuzzy rules, and fuzzy inference, in particular suitable to create fuzzy control systems efficiently.\n",
    "\n",
    "Let's start!"
   ]
  },
  {
   "cell_type": "markdown",
   "id": "86b85113",
   "metadata": {},
   "source": [
    "### Getting started <a class=\"anchor\" id=\"skfuzzy-start\"></a>"
   ]
  },
  {
   "cell_type": "code",
   "execution_count": null,
   "id": "af66b78b",
   "metadata": {},
   "outputs": [],
   "source": [
    "# uncomment the cells below to install skfuzzy\n",
    "# ! pip install --upgrade pip\n",
    "# ! pip install scikit-fuzzy"
   ]
  },
  {
   "cell_type": "code",
   "execution_count": null,
   "id": "d42d1a53",
   "metadata": {},
   "outputs": [],
   "source": [
    "import numpy as np\n",
    "import skfuzzy as fuzz\n",
    "import matplotlib.pyplot as plt "
   ]
  },
  {
   "cell_type": "markdown",
   "id": "9e7cabdb",
   "metadata": {},
   "source": [
    "In what follow we are going to implement a simply heating control system, that use the current value for temperature and humidity to decide on the heating power.\n",
    "\n",
    "We first need to define the **linguistic variables**: temperature, humidity (inputs) and heater power (output), and we associate to each of them a **physical domain**. In skfuzzy, inputs are _antecedents_, and outputs are _consequents_."
   ]
  },
  {
   "cell_type": "markdown",
   "id": "4640f4cf",
   "metadata": {},
   "source": [
    "##### Inputs"
   ]
  },
  {
   "cell_type": "code",
   "execution_count": null,
   "id": "287fb5ba",
   "metadata": {},
   "outputs": [],
   "source": [
    "# Define the input variables\n",
    "# temperature is in celsius unit\n",
    "# Humidity is a percentage value\n",
    "\n",
    "from skfuzzy import control as ctrl \n",
    "\n",
    "temperature = fuzz.control.Antecedent(np.arange(0, 41, 0.1), 'temperature')\n",
    "humidity = fuzz.control.Antecedent(np.arange(0, 101, 1), 'humidity')"
   ]
  },
  {
   "cell_type": "markdown",
   "id": "b8ffcaed",
   "metadata": {},
   "source": [
    "We need to define the **linguistic values** for each input, and the corresponding **membership functions**. \n",
    "\n",
    "Linguistic values:\n",
    "* temeperature: (cold, medium, warm)\n",
    "* humidity: (dry, normal, wet) \n",
    "\n",
    "Membership functions:\n",
    "\n",
    "For simplicity we will consider **triangular** and **trapezoid** membership functions. In other words, each interval of the linguistic values will be represented by a straight line, creating a trangle or a trapezoid for the whole variable physical domain. In skfuzzy this is done by using `trimf` for triangular functions, and `trapmf` for trapezoid functions."
   ]
  },
  {
   "cell_type": "code",
   "execution_count": null,
   "id": "20fabe71",
   "metadata": {},
   "outputs": [],
   "source": [
    "# Define the membership functions for temperature\n",
    "# the triplet [a,b,c] in each function\n",
    "# represents the 3 edges of the triangle \n",
    "\n",
    "temperature['cold'] = fuzz.trimf(temperature.universe, [0, 0, 20 ])\n",
    "temperature['medium'] = fuzz.trimf(temperature.universe, [15, 25, 35])\n",
    "temperature['warm'] = fuzz.trimf(temperature.universe, [25, 40, 40])\n",
    "\n",
    "\n",
    "# Define the membership functions for temperature\n",
    "humidity['dry'] = fuzz.trimf(humidity.universe,[0,0,40])\n",
    "humidity[\"normal\"] = fuzz.trapmf(humidity.universe,[30,45,75,90])\n",
    "humidity[\"wet\"] = fuzz.trimf(humidity.universe,[70,100,100])"
   ]
  },
  {
   "cell_type": "markdown",
   "id": "e623b860",
   "metadata": {},
   "source": [
    "Let's visualise the memberships functions defined."
   ]
  },
  {
   "cell_type": "code",
   "execution_count": null,
   "id": "14e75ee1",
   "metadata": {},
   "outputs": [],
   "source": [
    "temperature.view()"
   ]
  },
  {
   "cell_type": "code",
   "execution_count": null,
   "id": "f0e5a135",
   "metadata": {},
   "outputs": [],
   "source": [
    "humidity.view()"
   ]
  },
  {
   "cell_type": "markdown",
   "id": "caedc5b1",
   "metadata": {},
   "source": [
    "##### Outputs"
   ]
  },
  {
   "cell_type": "markdown",
   "id": "03092184",
   "metadata": {},
   "source": [
    "We define now the output of our fuzzy system, heater power, with the following characteristics. \n",
    "\n",
    "- Physical domain:we will consider the power as percentage of the overall heating power\n",
    "\n",
    "- Linguistic values: Low, Moderate, High\n",
    "\n",
    "- Membership functions: Triangular membership function\n",
    "\n",
    "- Defuzzification: for the output variable we need to specify the method to translate the fuzzy inferenced value into the actual crisp value used by the system to regulate the temperature. We will use the **centroid method**."
   ]
  },
  {
   "cell_type": "code",
   "execution_count": null,
   "id": "161aeea9",
   "metadata": {},
   "outputs": [],
   "source": [
    "# Define output variable\n",
    "heater_power = ctrl.Consequent(np.arange(0,100,0.1) , \"power\" , defuzzify_method='centroid')\n",
    "\n",
    "# Define the membership functions for heater power\n",
    "heater_power[\"low\"] = fuzz.trimf(heater_power.universe,[0,0,40])\n",
    "heater_power[\"moderate\"] = fuzz.trimf(heater_power.universe,[20,50,80])\n",
    "heater_power[\"high\"] = fuzz.trimf(heater_power.universe,[60,100,100])\n",
    "\n",
    "\n",
    "heater_power.view()"
   ]
  },
  {
   "cell_type": "markdown",
   "id": "55161132",
   "metadata": {},
   "source": [
    "##### Rules"
   ]
  },
  {
   "cell_type": "markdown",
   "id": "2d9b4fe2",
   "metadata": {},
   "source": [
    "We need to define the rules of our fuzzy heating system, combining all the possible status for temperature and humidity. For example\n",
    "\n",
    "<center> \n",
    "    If temperature is <b>cold</b> and humidity is <b>wet</b>, then heater is at <b>high</b> power.\n",
    "</center>\n",
    "    \n",
    "Since each of our input variable has 3 status, there are 3x3=9 possible combinations, hence 9 rules to define. These rules can simply be visualise as in the table below:\n",
    "\n",
    "<figure>\n",
    "<img src=\"heater_rules.png\" alt=\"Heater rules table\" style=\"width: 500px;\"/> \n",
    "</figure>"
   ]
  },
  {
   "cell_type": "code",
   "execution_count": null,
   "id": "93828fa4",
   "metadata": {},
   "outputs": [],
   "source": [
    "# Define fuzzy rules\n",
    "\n",
    "# heater power output = high\n",
    "rule1 = ctrl.Rule(temperature[\"cold\"] & humidity[\"wet\"] , heater_power[\"high\"])\n",
    "rule2 = ctrl.Rule(temperature[\"cold\"] & humidity[\"normal\"] , heater_power[\"high\"])\n",
    "rule3 = ctrl.Rule(temperature[\"medium\"] & humidity[\"wet\"] , heater_power[\"high\"])\n",
    "\n",
    "# heater power output = moderate\n",
    "rule4 = ctrl.Rule(temperature[\"cold\"] & humidity[\"dry\"] , heater_power[\"moderate\"])\n",
    "rule5 = ctrl.Rule(temperature[\"medium\"] & humidity[\"normal\"] , heater_power[\"moderate\"])\n",
    "rule6 = ctrl.Rule(temperature[\"warm\"] & humidity[\"wet\"] , heater_power[\"moderate\"])\n",
    "\n",
    "# heater power output = low\n",
    "rule7 = ctrl.Rule(temperature[\"medium\"] & humidity[\"dry\"] , heater_power[\"low\"])\n",
    "rule8 = ctrl.Rule(temperature[\"warm\"] & humidity[\"dry\"] , heater_power[\"low\"])\n",
    "rule9 = ctrl.Rule(temperature[\"warm\"] & humidity[\"normal\"] , heater_power[\"low\"])"
   ]
  },
  {
   "cell_type": "code",
   "execution_count": null,
   "id": "d60696b0",
   "metadata": {},
   "outputs": [],
   "source": [
    "# Create a fuzzy system with the rules just defined\n",
    "# this is our fuzzy knowledge base\n",
    "heater_ctrl = ctrl.ControlSystem([rule1,rule2,rule3,rule4,rule5,rule6,rule7,rule8,rule9])\n",
    "\n",
    "# Create the simulation\n",
    "# this is our 'inference' engine\n",
    "heater = ctrl.ControlSystemSimulation(heater_ctrl)"
   ]
  },
  {
   "cell_type": "markdown",
   "id": "0f723759",
   "metadata": {},
   "source": [
    "##### In action!\n",
    "It's time to use our system. Let's input some value for temperature and humidity."
   ]
  },
  {
   "cell_type": "code",
   "execution_count": null,
   "id": "739e2860",
   "metadata": {},
   "outputs": [],
   "source": [
    "# Input values\n",
    "# T=18*C, H=60%\n",
    "heater.input['temperature'] = 18\n",
    "heater.input['humidity'] = 60\n",
    "\n",
    "# Get the output\n",
    "heater.compute()\n",
    "output = heater.output['power']\n",
    "\n",
    "print('Heating power: {:.2f}%'.format(output))"
   ]
  },
  {
   "cell_type": "markdown",
   "id": "e523694a",
   "metadata": {},
   "source": [
    "Let's got through the **fuzzification** and **defuzzification** processes happening above.\n",
    "\n",
    "\n",
    "##### Fuzzyfication\n",
    "\n",
    "When inputing the values, the system computes the corresponding membership function values for T=18C and  H=60% (fuzzyfication). We can compute the **degree** of membership for each variable status (=linguistic values) using `interp_membership`. This functions takes 3 arguments: the physical domain, the membership function for the specific status, and the input value."
   ]
  },
  {
   "cell_type": "code",
   "execution_count": null,
   "id": "3e87f16b",
   "metadata": {},
   "outputs": [],
   "source": [
    "# Membership degree values for T=18*C\n",
    "t = 18\n",
    "print('Temperature input: {}C'.format(t))\n",
    "for status in ['cold', 'medium', 'warm']:\n",
    "    # compute membership degree\n",
    "    degree = fuzz.interp_membership(temperature.universe, temperature[status].mf, t)\n",
    "    print('Degree for {}: {}'.format(status, degree))\n",
    "\n",
    "# Membership degree values for H=60%\n",
    "h=60\n",
    "print('\\nHumidity input: {}%'.format(h))\n",
    "for status in ['dry', 'normal', 'wet']:\n",
    "    # compute membership degree\n",
    "    degree = fuzz.interp_membership(humidity.universe, humidity[status].mf, h)\n",
    "    print('Degree for {}: {}'.format(status, degree))"
   ]
  },
  {
   "cell_type": "markdown",
   "id": "8f7db700",
   "metadata": {},
   "source": [
    "We can visualise the values above adding our simulation/inference engine to the `.view()` of temperature and humidity."
   ]
  },
  {
   "cell_type": "code",
   "execution_count": null,
   "id": "8b2a79bc",
   "metadata": {},
   "outputs": [],
   "source": [
    "# Temperature fuzzification\n",
    "temperature.view(sim=heater)"
   ]
  },
  {
   "cell_type": "code",
   "execution_count": null,
   "id": "24a42f31",
   "metadata": {},
   "outputs": [],
   "source": [
    "# Humidity fuzzification\n",
    "print(humidity.view(sim=heater))"
   ]
  },
  {
   "cell_type": "markdown",
   "id": "d538c076",
   "metadata": {},
   "source": [
    "In the above plots, the black line is drawn at the input value."
   ]
  },
  {
   "cell_type": "markdown",
   "id": "44b50c61",
   "metadata": {},
   "source": [
    "##### Rules\n",
    "\n",
    "Given the degree outputs obtained above, only the following rules are considered by the sistem:\n",
    "\n",
    "- rule 2: if temperature is cold **AND** humidity is normal, then heater power is **high**\n",
    "- rule 5: if temperature is medium **AND** humidity is normal, then heater power is **moderate**\n",
    "\n",
    "As we have seen during Week 6 lecture, for two membership functions f1, f2, the intersection degree (**AND**) is given by `min(f1,f2)`. \n",
    "\n",
    "Given:\n",
    "\n",
    "- Degree for temperature cold: 0.1\n",
    "- Degree for temperature medium: 0.3\n",
    "- Degree for temperature normal: 1.0\n",
    "\n",
    "We obtain the following degree intersection:\n",
    "- rule 2: min(0.1, 1) = 0.1\n",
    "- rule 5: min(0.3, 1) = 0.3\n",
    "\n",
    "Hence\n",
    "- rule 2: activation heater power **0.1 high**\n",
    "- rule 5: activation heater power **0.3 moderate**"
   ]
  },
  {
   "cell_type": "markdown",
   "id": "7c2bca8a",
   "metadata": {},
   "source": [
    "##### Defuzzyfication\n",
    " \n",
    "We need to translate the active fuzzy rules outputs into a crisp value output. In defining `heater_power` we have specified the defuzzify method to be **centroid**, hence we need to compute the 'central' output among those activated. \n",
    "\n",
    "\n",
    "Each rule adds constraints to the original membership function, restricting the possible values, reducing the _fuzzy set_ for moderate and high. \n",
    "\n",
    "The plot below outputs which parts of the `heater_power` membership functions is valid after reasoning using our inference engine and inputs."
   ]
  },
  {
   "cell_type": "code",
   "execution_count": null,
   "id": "79fbb355",
   "metadata": {},
   "outputs": [],
   "source": [
    "heater_power.view(sim=heater)"
   ]
  },
  {
   "cell_type": "markdown",
   "id": "60e56f31",
   "metadata": {},
   "source": [
    "The plot above shows some coloured areas:\n",
    "- orange: this is the area corresponding to rule5, this is the new fuzzy set containing the valid values for 'moderate'\n",
    "- green: this is the area corresponding to rule2, this is the new fuzzy set containing the valid values for 'high'\n",
    "\n",
    "Which value to choose then? Well, any power value within the highlighted areas is a valid answer. However, we need a crisp value to make sure our heating system works. To find such unique value, we can use the **centroid method**. This method computes the **centre** of the overall highlighted area (= the fuzzy set of all possible power values, given our two rules).\n",
    "\n",
    "\n",
    "We will not go into the details of the formula, since this involves concepts not in scope for this module, however a detailed explanation with example can be found [in this website](https://codecrucks.com/center-of-gravity-method-for-defuzzification/).\n",
    "\n",
    "Applying the centroid formula, our inference engine outputs a power value of 54.81%; this is highlighted in the plot by the black vertical line.\n",
    "\n",
    "Finally, given our inputs of T=18C and H=60%, we now know that our heating system will be activated at 54.81% of its power!\n"
   ]
  },
  {
   "cell_type": "markdown",
   "id": "baddee75",
   "metadata": {},
   "source": [
    "### Exercise -  smart traffic light <a class=\"anchor\" id=\"skfuzzy-ex\"></a>"
   ]
  },
  {
   "cell_type": "markdown",
   "id": "acf8a271",
   "metadata": {},
   "source": [
    "You have been tasked with creating a control system for the traffic light at a specif junction stop.\n",
    "\n",
    "The duration of the green light will depend on 3 factors:\n",
    "- waiting_traffic: current number of vehicles waiting at the stop\n",
    "- oncoming_traffic: number of vehicles arriving to the stop (from other traffic lanes)\n",
    "- pedestrian_density: number of pedestrian  need to cross the junction while traffic red light is on"
   ]
  },
  {
   "cell_type": "markdown",
   "id": "85fe02c6",
   "metadata": {},
   "source": [
    "**Task1**\n",
    "\n",
    "Create the inputs and otputs of your fuzzy logic system, with the following linguistic values:\n",
    "\n",
    "Input:\n",
    "- waiting_traffic:  \n",
    "    - values: ['free_flow', 'light', 'moderate', 'heavy', 'standstill']\n",
    "    - domain: (0,100)\n",
    "- oncoming_traffic: \n",
    "    - values: ['minimal', 'low', 'average', 'high']\n",
    "    - domain: (0,100)\n",
    "\n",
    "- pedestrian_density:\n",
    "    - values: ['low', 'moderate', 'high']\n",
    "    - domain: (0,10)\n",
    "\n",
    "Output:\n",
    "- light_duration:  \n",
    "    - values: ['short', 'medium', 'long']\n",
    "    - domain (unit=seconds): (0,180)\n",
    "\n",
    "For each variable/linguistic value you will need to define an appropriate membership function. You can do this manually, or make skfuzzy find the most appropriate functions using:\n",
    "`<variable name>.automf(<number_of_linguistic_values>, names=<linguistic_values>)`"
   ]
  },
  {
   "cell_type": "code",
   "execution_count": null,
   "id": "4719cf40",
   "metadata": {},
   "outputs": [],
   "source": [
    "# write here your code"
   ]
  },
  {
   "cell_type": "markdown",
   "id": "0c3597a3",
   "metadata": {},
   "source": [
    "**Task2**\n",
    "\n",
    "Create the rules of your traffic light control.\n",
    "\n",
    "Given the number of linguistic values defined above for the input variables, there are 5x4x3=60 possibilities, hence 60 rules need to be defined. You can define these rules one by one, or you can write a function that creates all the 60 possibilities, and randomly associated one state of light_duration to each rule."
   ]
  },
  {
   "cell_type": "code",
   "execution_count": null,
   "id": "9c8134aa",
   "metadata": {},
   "outputs": [],
   "source": [
    "# write here your code"
   ]
  },
  {
   "cell_type": "markdown",
   "id": "f9702957",
   "metadata": {},
   "source": [
    "**Task3**\n",
    "\n",
    "It's time to control the traffic lights! Create the KB and inference engine.\n",
    "\n",
    "How long will the red light last in the following situation:\n",
    "\n",
    "- Waiting traffic: 50 cars\n",
    "- Oncoming traffic: 10 cars\n",
    "- Pedestrian: 0\n",
    "\n",
    "- Waiting traffic: 0 cars\n",
    "- Oncoming traffic: 17 cars\n",
    "- Pedestrian: 3\n",
    "\n",
    "- Waiting traffic: 90 cars\n",
    "- Oncoming traffic: 0 cars\n",
    "- Pedestrian: 2"
   ]
  },
  {
   "cell_type": "code",
   "execution_count": null,
   "id": "28765f05",
   "metadata": {},
   "outputs": [],
   "source": [
    "# write here your code"
   ]
  }
 ],
 "metadata": {
  "kernelspec": {
   "display_name": "Python 3 (ipykernel)",
   "language": "python",
   "name": "python3"
  },
  "language_info": {
   "codemirror_mode": {
    "name": "ipython",
    "version": 3
   },
   "file_extension": ".py",
   "mimetype": "text/x-python",
   "name": "python",
   "nbconvert_exporter": "python",
   "pygments_lexer": "ipython3",
   "version": "3.9.12"
  }
 },
 "nbformat": 4,
 "nbformat_minor": 5
}
