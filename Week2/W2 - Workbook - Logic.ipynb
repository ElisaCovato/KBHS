{
 "cells": [
  {
   "cell_type": "markdown",
   "id": "5a31212a",
   "metadata": {},
   "source": [
    "# Logic for knowledge representation"
   ]
  },
  {
   "cell_type": "markdown",
   "id": "c8a1070f",
   "metadata": {},
   "source": [
    "This workbook explores the concept of **logical programming** in Python and how to use it for reasoning.\n",
    "\n",
    "Throughout the notebook you will use two libraries, namely pytholog and miniKanren. You will find some guided examples to aid your understanding, and one exercise for you to implement on your own.\n",
    "\n",
    "#### Content:\n",
    "* [pytholog](#pl)\n",
    "    * [Getting started](#pl-start)\n",
    "* [miniKanren](#mk)\n",
    "    * [Getting started](#mk-start)\n",
    "    * [Example - The research-grant problem](#grant)\n",
    "* [Exercise - Logic puzzles](#logic)"
   ]
  },
  {
   "cell_type": "markdown",
   "id": "71a0f209",
   "metadata": {},
   "source": [
    "## pytholog <a class=\"anchor\" id=\"pl\"></a>"
   ]
  },
  {
   "cell_type": "markdown",
   "id": "38610371",
   "metadata": {},
   "source": [
    "[Pytholog](https://mnoorfawi.github.io/pytholog/) is a Python library that provides tools for logic programming. It allows you to write logical statements and perform reasoning tasks using the [PROLOG](https://en.wikipedia.org/wiki/Prolog) programming language [syntax](https://en.wikipedia.org/wiki/Prolog_syntax_and_semantics).\n",
    "\n",
    "\n",
    "**Facts**\n",
    "\n",
    "Facts in Prolog are formed by a _predicate_ and some _terms_:\n",
    "```prolog\n",
    "parent(fran, robert).  \n",
    "parent(robert, john).      \n",
    "parent(john, paul).        \n",
    "parent(john, ann).        \n",
    "parent(paul, tom).          \n",
    "parent(tom, mary).       \n",
    "```\n",
    "`parent(fran, robert)` (= Fran is Robert's parent) is a fact where parent is a predicate and (fran,robert) are terms. \n",
    "\n",
    "Note that  _terms in the facts are lowercased, meaning they are truths and cannot change._\n",
    "\n",
    "**Rules**\n",
    "\n",
    "Rules have a left-hand-side (LHS) containing a predicate, and a right-hand-side containing the _goals_ to match to answer a query:\n",
    "```prolog\n",
    "grandparent(X, Z) :- parent(X, Y), parent(Y, Z).\n",
    "```\n",
    "the rule above defines that X is granparent of Z (predicate), if X is parent of Y and Y is parent of Z (goals). \n",
    "\n",
    "In prolog: `,=AND` and `;=OR` \n",
    "\n",
    "Note that _terms in the rules are uppercased, meaning that they are variables, need to be changed in a query_.\n",
    "\n",
    "\n",
    "\n",
    "**We are now going to implement the above facts and rules in pytholog.**"
   ]
  },
  {
   "cell_type": "markdown",
   "id": "e834b671",
   "metadata": {},
   "source": [
    "### Getting started <a class=\"anchor\" id=\"pl-start\"></a>"
   ]
  },
  {
   "cell_type": "code",
   "execution_count": null,
   "id": "d96b83e2",
   "metadata": {},
   "outputs": [],
   "source": [
    "# uncomment the cells below to install pytholog\n",
    "#! pip install --upgrade pip\n",
    "#! pip install pytholog\n",
    "\n",
    "import pytholog as pl"
   ]
  },
  {
   "cell_type": "code",
   "execution_count": null,
   "id": "15f6e57f",
   "metadata": {},
   "outputs": [],
   "source": [
    "# let's start by defining a knowledge base object to store facts and  rules\n",
    "kb = pl.KnowledgeBase('family_tree')"
   ]
  },
  {
   "cell_type": "code",
   "execution_count": null,
   "id": "f540b19f",
   "metadata": {},
   "outputs": [],
   "source": [
    "# add facts and rules to kb\n",
    "kb([\n",
    "    'parent(fran, robert)',\n",
    "    'parent(robert, john)',\n",
    "    'parent(john, paul)',\n",
    "    'parent(john, ann)',\n",
    "    'parent(paul, tom)',\n",
    "    'parent(tom, mary)',\n",
    "    'grandparent(X, Z) :- parent(X, Y), parent(Y, Z)',\n",
    "    'ancestor(X, Z) :- parent(X, Y),  grandparent(Y, Z)'\n",
    "])"
   ]
  },
  {
   "cell_type": "code",
   "execution_count": null,
   "id": "b4e3bd93",
   "metadata": {},
   "outputs": [],
   "source": [
    "# the following prints the knowledge stored into our KB\n",
    "kb.db"
   ]
  },
  {
   "cell_type": "markdown",
   "id": "17fbd3b9",
   "metadata": {},
   "source": [
    "We now want to query our KB to extract the following information:\n",
    "\n",
    "* **q1**: who are John's children?\n",
    "* **q2**: is John Fran's granparent?\n",
    "* **q3**: who is Mary's ancestor?"
   ]
  },
  {
   "cell_type": "code",
   "execution_count": null,
   "id": "b4891b6e",
   "metadata": {},
   "outputs": [],
   "source": [
    "# Q1: who are John's children?\n",
    "q1 = pl.Expr('parent(john, Y)')\n",
    "kb.query(q1)"
   ]
  },
  {
   "cell_type": "code",
   "execution_count": null,
   "id": "990c34d2",
   "metadata": {},
   "outputs": [],
   "source": [
    "# Q2: is John Fran's grandparent?\n",
    "q2 = pl.Expr('grandparent(john, fran)')\n",
    "kb.query(q2)"
   ]
  },
  {
   "cell_type": "code",
   "execution_count": null,
   "id": "9402d99c",
   "metadata": {},
   "outputs": [],
   "source": [
    "# Q3: who is Mary's ancestor?\n",
    "q3 = pl.Expr('ancestor(X, mary)')\n",
    "kb.query(q3)"
   ]
  },
  {
   "cell_type": "markdown",
   "id": "ed8c672b",
   "metadata": {},
   "source": [
    "pytholog is a user-friendly and intuitive library that follows the PROLOG syntax. However, it may not perform optimally for complex problems, for example when there is need of mathematical comparison or inference with partial facts. \n",
    "\n",
    "In such cases, one option is to directly implement the problem using the PROLOG language. You can use the [SWISH online environment](https://swish.swi-prolog.org/example/prolog_tutorials.swinb) to practice coding in PROLOG. Give a look at these PROLOG [examples](https://swish.swi-prolog.org/example/examples.swinb) to get an idea of the syntax and capabilities of this language.\n",
    "\n",
    "\n",
    "Alternatively, if you prefer to stick with Python, another solution is to explore [pySWIP](https://pypi.org/project/pyswip/), although it may require more effort to set up and work with since you will need a working instance of SWI-PROLOG in your laptop.\n",
    "You can also look into [pylog](https://pypi.org/project/pylog/) and [pyke](https://pyke.sourceforge.net/), altough these libraries are not actively maintaned."
   ]
  },
  {
   "cell_type": "markdown",
   "id": "dd0cad30",
   "metadata": {},
   "source": [
    "## miniKanren <a class=\"anchor\" id=\"mk\"></a>"
   ]
  },
  {
   "cell_type": "markdown",
   "id": "3d4e020f",
   "metadata": {},
   "source": [
    "[miniKanren](http://minikanren.org/) is family of languages for logic programming, implemented in a variaty of host languages, including Python.\n",
    "\n",
    "The [miniKanren library](https://pypi.org/project/miniKanren/) for Python provides tools for logical programming. It allows you to write logical statements and perform reasoning tasks using a declarative approach. In contrast to pytholog, miniKanren takes a more familiar approach for Python developers as it is implemented purely in Python."
   ]
  },
  {
   "cell_type": "markdown",
   "id": "2e396d3c",
   "metadata": {},
   "source": [
    "### Getting started <a class=\"anchor\" id=\"mk-start\"></a>"
   ]
  },
  {
   "cell_type": "code",
   "execution_count": null,
   "id": "da3522ef",
   "metadata": {},
   "outputs": [],
   "source": [
    "# uncomment the cells below to install miniKanren\n",
    "#! pip install --upgrade pip\n",
    "#! pip install miniKanren\n",
    "\n",
    "import kanren as mk\n",
    "\n",
    "# We'll access these functions directly through mk using mk.<name_of_function>\n",
    "# In an actual project, you might want to import them into python rather than through mk\n",
    "# from kanren import fact, Relation, run, eq, membero, unifiable, vars, var, lall, lany\n",
    "# from kanren.term import applyo"
   ]
  },
  {
   "cell_type": "markdown",
   "id": "d2243437",
   "metadata": {},
   "source": [
    "In `kanren` knowledge is stored using `facts` and relations among terms.\n",
    "\n",
    "Let's consider the same family tree we implemented in pytholog:\n",
    "- fran is robert's parent\n",
    "- robert is john's parent\n",
    "- john is paul and ann' parent\n",
    "- paul is tom's parent\n",
    "- tom is mary's parent\n",
    "\n",
    "Here relation is _parent_ and terms are _fran, robert, joh, paul, tom, mary_.\n",
    "\n",
    "So let's translate it using kanren."
   ]
  },
  {
   "cell_type": "code",
   "execution_count": null,
   "id": "b3f4d143",
   "metadata": {},
   "outputs": [],
   "source": [
    "# let's start by defining the relation\n",
    "parent = mk.Relation()"
   ]
  },
  {
   "cell_type": "code",
   "execution_count": null,
   "id": "abfff6db",
   "metadata": {},
   "outputs": [],
   "source": [
    "# add facts and terms\n",
    "mk.facts(parent, \n",
    "         ('Fran', 'Robert'),\n",
    "         ('Robert', 'John'),\n",
    "         ('John', 'Paul'),\n",
    "         ('John', 'Ann'),\n",
    "         ('Paul', 'Tom'),\n",
    "         ('Tom', 'Mary')\n",
    ")"
   ]
  },
  {
   "cell_type": "markdown",
   "id": "a542f90f",
   "metadata": {},
   "source": [
    "The code above creates the knowledge base (KB) of our system.\n",
    "\n",
    "We now want to query our KB to extract the following information:\n",
    "\n",
    "* **q1**: who are John's children?\n",
    "* **q2**: is John Fran's granparent?\n",
    "* **q3**: who is Mary's ancestor?\n",
    "\n",
    "In `kanren` we can run queries against a KB using the following syntax:\n",
    "\n",
    "```\n",
    "run(no_of_results, vars, goals(vars & terms))\n",
    "```\n",
    "- `no_of_results`: this is the number of results we want to get; use 0 for all.\n",
    "- `vars`: unknown variables, used to query a KB with a question\n",
    "- `goals`: these are logical statements, relations that need to be verified; they can contain unknowns variables for which we want an answer, or knows variables (= terms) to verify are goals agains to. **goals** allow you to specify conditions or relationships that you want to satisfy or find solutions for.\n",
    "\n",
    "The function `run` return a tuple of results matching our goals/query."
   ]
  },
  {
   "cell_type": "markdown",
   "id": "977923ff",
   "metadata": {},
   "source": [
    "**Q1: who are John's children?**\n",
    "\n",
    "To answer this question our goal is to check for all the pairs in the KB of the type ('John', x), where x is the answer(s) we are looking for."
   ]
  },
  {
   "cell_type": "code",
   "execution_count": null,
   "id": "fa0e0a2d",
   "metadata": {},
   "outputs": [],
   "source": [
    "# let's start by defining an unknown kanren variable\n",
    "x = mk.var()\n",
    "\n",
    "# let's query the KB\n",
    "# We want to return all the results (0), our goals is to check for 'parent('John',x)', where x is unknown\n",
    "results = mk.run(0, x, parent('John',x))\n",
    "\n",
    "print('John`s children: ', results)"
   ]
  },
  {
   "cell_type": "markdown",
   "id": "59324824",
   "metadata": {},
   "source": [
    "**Q2A: is John Fran's grandparent?**\n",
    "\n",
    "To answer this questions we need to create a goal that defines what a 'grandparent' is. \n",
    "\n",
    "In kanren the _goal constructor_ is a typical python function."
   ]
  },
  {
   "cell_type": "code",
   "execution_count": null,
   "id": "8066495d",
   "metadata": {},
   "outputs": [],
   "source": [
    "def grandparent(gp,c):\n",
    "    '''\n",
    "    This function takes two variables:\n",
    "    gp: name of grandparent\n",
    "    c: name of child\n",
    "    It then queries the KB to find all the pairs for which there exist a parent p so that:\n",
    "    gp is parent of p, p is parent of c\n",
    "    The function returns an iteratable object containing all the matches\n",
    "    '''\n",
    "    # unknown parent variable\n",
    "    p = mk.var()\n",
    "    \n",
    "    # `lall` it is a goal conjuction checker, it allows you to verify whether\n",
    "    # all the goals in the sequence are True; equivalent to verify (A AND B)\n",
    "    matches = mk.lall(parent(gp, p), parent(p, c))\n",
    "    return matches"
   ]
  },
  {
   "cell_type": "markdown",
   "id": "d84b958a",
   "metadata": {},
   "source": [
    "Let's query our kb using the new goal.\n",
    "\n",
    "Because we want to just check for True/False we will use None instead of 0 , we will not need unknown variables, but we will add a `results_filter` function. This function checks whether the tuple of matches from our goal contains any element, if yes our query is True (= our goal is satisfied).\n"
   ]
  },
  {
   "cell_type": "code",
   "execution_count": null,
   "id": "d0dbc349",
   "metadata": {},
   "outputs": [],
   "source": [
    "results = mk.run(None, (), grandparent('John', 'Fran'), results_filter=lambda matches: len(tuple(matches))>0 )\n",
    "\n",
    "print('Is John Fran`s grandparent:', results)"
   ]
  },
  {
   "cell_type": "markdown",
   "id": "336b2cbe",
   "metadata": {},
   "source": [
    "**Q2B: is Paul Mary's grandparent?**"
   ]
  },
  {
   "cell_type": "code",
   "execution_count": null,
   "id": "bfc60325",
   "metadata": {},
   "outputs": [],
   "source": [
    "results = mk.run(None, (), grandparent('Paul', 'Mary'), results_filter=lambda matches: len(tuple(matches))>0 )\n",
    "\n",
    "print('Is Paul Mary`s grandparent:', results)"
   ]
  },
  {
   "cell_type": "markdown",
   "id": "2bf4fff9",
   "metadata": {},
   "source": [
    "### Task"
   ]
  },
  {
   "cell_type": "markdown",
   "id": "d1984cb9",
   "metadata": {},
   "source": [
    "**Q3: who is John's ancestor?**\n",
    "\n",
    "Construct a goal similar to the one in Q2, and use the query approach from Q1. \n",
    "\n",
    "You can use the same rule defined for the pytholog example:\n",
    "X is an ancestor of Z,  if _there exists_  Y such that X is the parent of Y _and_ Y is the grandparent of Z (`ancestor(X, Z) :- parent(X, Y),  grandparent(Y, Z)`)."
   ]
  },
  {
   "cell_type": "code",
   "execution_count": null,
   "id": "8d086158",
   "metadata": {},
   "outputs": [],
   "source": [
    "# write your code here"
   ]
  },
  {
   "cell_type": "markdown",
   "id": "c4af7259",
   "metadata": {},
   "source": [
    "### Example - The research grant problem <a class=\"anchor\" id=\"grant\"></a>"
   ]
  },
  {
   "cell_type": "markdown",
   "id": "c808a610",
   "metadata": {},
   "source": [
    "Let's look at a more challenging example: the research grant problem.\n",
    "\n",
    "There are 3 researchers: Aiko, Bilal, Catia, and Dinesh. \n",
    "\n",
    "Each has one research grant and one research subject. \n",
    "\n",
    "The available grants are: £25k, £30k, £35k and £40K. \n",
    "\n",
    "The available subjects are: Computer Science, Philosophy, Mathematics, and Arabic Studies. \n",
    "\n",
    "We know  the following clues:\n",
    "\n",
    "\n",
    "1. The researcher who studies Computer Science gets a smaller grant than Aiko.\n",
    "2. Aiko studies either Mathematics or Arabic Studies.\n",
    "3. The researcher who studies Philosophy has a £5K bigger grant than Bilal.\n",
    "4. Catia has a £10K bigger grant than Bilal.\n",
    "5. Dinesh has a bigger grant than the researcher who studies Mathematics.\n",
    "\n",
    "This type of puzzle can be solved by using pen&paper and _logic grids_ as the one below:\n",
    "\n",
    "\n",
    "<img src=\"grant_grid.png\" alt=\"grid\" style=\"width: 200px;\"/>\n",
    "\n",
    "\n",
    "You can also access an online version of the grid: [grant_online_grid](https://jsingler.de/apps/logikloeser/?language=en#(at:s,items:!(!(Aiko,Bilal,Catia,Dinesh),!('25k','30k','35k','40k'),!('Comp.%20Sci.',Maths,Philosphy,Arabic)),ms:t,n:!(),nc:3,ni:4,p:!(),v:0)).\n",
    "\n",
    "Using the facts above, we want to determine which researcher has which grant and studies which subject.\n",
    "\n",
    "Let's solve the puzzle using logical programming!"
   ]
  },
  {
   "cell_type": "code",
   "execution_count": null,
   "id": "890714c9",
   "metadata": {},
   "outputs": [],
   "source": [
    "# Let's start by creating a dataclass object Researcher\n",
    "# this object will allow us to store information for each researcher\n",
    "from dataclasses import dataclass, field\n",
    "\n",
    "@dataclass\n",
    "class Researcher():\n",
    "    # for each researcher we have a name, grant amount, and a research subject\n",
    "    name : str = field(default_factory=mk.var)\n",
    "    grant: int = field(default_factory=mk.var)\n",
    "    subject: str = field(default_factory=mk.var)\n",
    "        \n",
    "# register Researcher class within the mk environment so we can call it later   \n",
    "mk.unifiable(Researcher)          "
   ]
  },
  {
   "cell_type": "code",
   "execution_count": null,
   "id": "17760a99",
   "metadata": {},
   "outputs": [],
   "source": [
    "# We have 4 researchers in total, so lets create a suitable collection object where store all of them     \n",
    "researchers = mk.vars(4)"
   ]
  },
  {
   "cell_type": "markdown",
   "id": "5f2bac86",
   "metadata": {},
   "source": [
    "all the clues, except for no2, ask to compare grants, so we are going to define a function to avoid repeating code.\n",
    "\n",
    "In the function below we use membero, applyo and eq:\n",
    "- `membero(item,coll`): states that item is a member of the collection coll\n",
    "- `eq(x,y)`: express equality between x and y\n",
    "- `applyo(f, terms, result_var)`: applies the function f to the terms listed and store the result in result_var"
   ]
  },
  {
   "cell_type": "code",
   "execution_count": null,
   "id": "423a3b52",
   "metadata": {},
   "outputs": [],
   "source": [
    "from kanren.term import applyo\n",
    "\n",
    "def compare_grants(r1,r2,callable):\n",
    "    '''\n",
    "    This function accepts two Research dataclass objects, and a callable function (like lambda x,y :  x>y)\n",
    "    Then:\n",
    "    - states that r1,r2 belong to the researchers collection (membero)\n",
    "    - applies the callable functions to the grants and store the resulting comparison\n",
    "    - checks that the comparison is True (eq) \n",
    "    '''\n",
    "    g1 = r1.grant\n",
    "    g2 = r2.grant\n",
    "    comparison_result = mk.var()\n",
    "    result = mk.lall(\n",
    "        mk.membero(r1,researchers),\n",
    "        mk.membero(r2,researchers),\n",
    "        applyo(callable, (g1,g2), comparison_result),\n",
    "        mk.eq(comparison_result, True)\n",
    "    )\n",
    "    return result"
   ]
  },
  {
   "cell_type": "markdown",
   "id": "11017bb1",
   "metadata": {},
   "source": [
    "Each clue defined in the problem is a goal,  a relation that needs to be satisfied.\n",
    "\n",
    "We write goal constructors for each of them."
   ]
  },
  {
   "cell_type": "code",
   "execution_count": null,
   "id": "6f8779e2",
   "metadata": {},
   "outputs": [],
   "source": [
    "# Clue1 : The researcher who studies Computer Science gets a smaller grant than Aiko\n",
    "# Callable comparison function lambda x,y: x<y\n",
    "\n",
    "def clue1():\n",
    "    r1 = Researcher(subject='Computer Science')\n",
    "    r2 = Researcher(name='Aiko')\n",
    "    result = compare_grants(r1,r2, lambda x,y: x<y)\n",
    "    return result"
   ]
  },
  {
   "cell_type": "code",
   "execution_count": null,
   "id": "6ea80e11",
   "metadata": {},
   "outputs": [],
   "source": [
    "# Clue2 : Aiko studies either Mathematics or Arabic Studies\n",
    "\n",
    "def clue2():\n",
    "    g = Researcher(name='Aiko')\n",
    "    s = g.subject\n",
    "    result = mk.lall(\n",
    "        mk.membero(g,researchers), \n",
    "        # lany verifies statements like (A OR B)\n",
    "        mk.lany(mk.eq(s,'Mathematics'), mk.eq(s,'Arabic Studies'))\n",
    "    )\n",
    "    return result"
   ]
  },
  {
   "cell_type": "code",
   "execution_count": null,
   "id": "12834871",
   "metadata": {},
   "outputs": [],
   "source": [
    "# Clue3: The researcher who studies Philosophy has a £5K bigger grant than Bilal\n",
    "# Callable comparison function lambda x,y: x == y + 5\n",
    "\n",
    "def clue3():\n",
    "    r1 = Researcher(subject='Philosophy')\n",
    "    r2 = Researcher(name='Bilal')\n",
    "    result = compare_grants(r1,r2,lambda x,y: x == y + 5)\n",
    "    return result"
   ]
  },
  {
   "cell_type": "code",
   "execution_count": null,
   "id": "d6cf64c4",
   "metadata": {},
   "outputs": [],
   "source": [
    "# Clue4: Catia has a £10K bigger grant than Bilall\n",
    "# Callable comparison function lambda x,y: x == y + 10\n",
    "\n",
    "def clue4():\n",
    "    r1 = Researcher(name='Catia')\n",
    "    r2 = Researcher(name='Bilal')\n",
    "    result = compare_grants(r1,r2,lambda x,y: x == y + 10)\n",
    "    return result"
   ]
  },
  {
   "cell_type": "code",
   "execution_count": null,
   "id": "4b4f2557",
   "metadata": {},
   "outputs": [],
   "source": [
    "# Clue5: Dinesh has a bigger grant than the researcher who studies Mathematics\n",
    "# Callable comparison function lambda x,y: x>y\n",
    "\n",
    "def clue5():\n",
    "    r1 = Researcher(name='Dinesh')\n",
    "    r2 = Researcher(subject='Mathematics')\n",
    "    result = compare_grants(r1,r2,lambda x,y : x > y)\n",
    "    return result"
   ]
  },
  {
   "cell_type": "markdown",
   "id": "175fd2f6",
   "metadata": {},
   "source": [
    "We are now ready to put all the clues together to solve our puzzle.\n",
    "\n",
    "Reading our clues, it is possible to understand what the 4 possible names and subjects of the reearchers are. However, the grant amount are not defined. In order to incorporate the information about the possible grant amounts (25, 30, 35, or 40) into our knowledge base, we need to explicitly state this information. For instance, we can write `eq(Researcher(grant=25), researchers[0])` to mean to to indicate that the researcher with a grant of 25 should be stored in the first slot of our `researchers` collection.\n",
    "\n",
    "Finally, we need to specify that one researcher has subject of study = 'Arabic Studies'. this beacuase although we have used `Researcher(subject='Arabic Studies')` in the code, we have not stated its memebership within the `researchers` collection, as we have done with all the other combinations of names and subjects."
   ]
  },
  {
   "cell_type": "code",
   "execution_count": null,
   "id": "c9e91977",
   "metadata": {},
   "outputs": [],
   "source": [
    "# define a tuple containing all the goal.\n",
    "goals = (\n",
    "    mk.eq(Researcher(grant=25), researchers[0]),\n",
    "    mk.eq(Researcher(grant=30), researchers[1]),\n",
    "    mk.eq(Researcher(grant=35), researchers[2]),\n",
    "    mk.eq(Researcher(grant=40), researchers[3]),\n",
    "    clue1(),\n",
    "    clue2(),\n",
    "    clue3(),\n",
    "    clue4(),\n",
    "    clue5(),\n",
    "    mk.membero(Researcher(subject='Arabic Studies'), researchers)\n",
    ")"
   ]
  },
  {
   "cell_type": "markdown",
   "id": "985a4e35",
   "metadata": {},
   "source": [
    "We are now ready to solve the puzzle..."
   ]
  },
  {
   "cell_type": "code",
   "execution_count": null,
   "id": "0ac0b57b",
   "metadata": {},
   "outputs": [],
   "source": [
    "solution = mk.run(0, researchers, *goals)\n",
    "\n",
    "solution"
   ]
  },
  {
   "cell_type": "markdown",
   "id": "5de4e4d6",
   "metadata": {},
   "source": [
    "## Exercise - Logic puzzles  <a class=\"anchor\" id=\"logic\"></a>"
   ]
  },
  {
   "cell_type": "markdown",
   "id": "82cf1481",
   "metadata": {},
   "source": [
    "For this exercise you are going to solve a similar problem to the one above. There two difficulties you can choose from.\n",
    "\n",
    "### Easy\n",
    "There are 3 kids named Aisha, Ben, and Celine, who are reading superhero comic books. The comic books they are reading are about Ironman, Spiderman, and Captain America. The ages of the kids are 6, 8, and 10 years old.\n",
    "\n",
    "You know that:\n",
    "\n",
    "- Aisha is reading Spiderman,\n",
    "- Ben doesn't like Captain America\n",
    "- The youngest kid is reading Spiderman\n",
    "- The kid who reads Captain America is 8.\n",
    "\n",
    "**Q: how old is the kid reading Iron Man?**\n",
    "\n",
    "### Moderate\n",
    "The [Zebra Puzzle](https://en.wikipedia.org/wiki/Zebra_Puzzle), originally published in Life International in 1962, is one of the oldest logic puzzles. \n",
    "\n",
    "You have the following 15 clues:\n",
    "\n",
    "- There are five houses.\n",
    "- The Englishman lives in the red house.\n",
    "- The Spaniard owns the dog.\n",
    "- Coffee is drunk in the green house.\n",
    "- The Ukrainian drinks tea.\n",
    "- The green house is immediately to the right of the ivory house.\n",
    "- The Old Gold smoker owns snails.\n",
    "- Kools are smoked in the yellow house.\n",
    "- Milk is drunk in the middle house.\n",
    "- The Norwegian lives in the first house.\n",
    "- The man who smokes Chesterfields lives in the house next to the man with the fox.\n",
    "- Kools are smoked in the house next to the house where the horse is kept.\n",
    "- The Lucky Strike smoker drinks orange juice.\n",
    "- The Japanese smokes Parliaments.\n",
    "- The Norwegian lives next to the blue house.\n",
    "\n",
    "You want answer the following questions:\n",
    "\n",
    "**Q1: Who drinks water?**\n",
    "\n",
    "**Q2: Who owns the zebra?**"
   ]
  }
 ],
 "metadata": {
  "kernelspec": {
   "display_name": "Python 3 (ipykernel)",
   "language": "python",
   "name": "python3"
  },
  "language_info": {
   "codemirror_mode": {
    "name": "ipython",
    "version": 3
   },
   "file_extension": ".py",
   "mimetype": "text/x-python",
   "name": "python",
   "nbconvert_exporter": "python",
   "pygments_lexer": "ipython3",
   "version": "3.9.12"
  }
 },
 "nbformat": 4,
 "nbformat_minor": 5
}
