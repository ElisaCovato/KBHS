{
 "cells": [
  {
   "cell_type": "markdown",
   "id": "5a31212a",
   "metadata": {},
   "source": [
    "# Rules for knowledge representation"
   ]
  },
  {
   "cell_type": "markdown",
   "id": "c8a1070f",
   "metadata": {},
   "source": [
    "This workbook explores the concept of **rules-based** system in Python.\n",
    "\n",
    "This workbook guides you into developing a rule-based chatbot. While certain sections are more tutorial-based, others allow you to apply your knowledge independently.\n",
    "\n",
    "**Make sure to have gone through `W2 - Workbook - Logic.ipynb`** before working on this notebook.\n"
   ]
  },
  {
   "cell_type": "markdown",
   "id": "2d9d04eb",
   "metadata": {},
   "source": [
    "## Chatbots\n",
    "\n",
    "Chatbots have a long history that dates back to the 1960s. One of the earliest examples is [ELIZA](https://en.wikipedia.org/wiki/ELIZA), a program designed to simulate a conversation with a psychotherapist. ELIZA used pattern matching and simple rules to respond to user inputs. \n",
    "\n",
    "Fast forward to the present day, chatbots have become increasingly sophisticated and widely used. They are employed in various industries, including customer service, healthcare, and e-commerce. Rule-based systems are one approach used in chatbot development, where responses are pre-determined based on a set of predefined rules and matches. However, modern chatbots often combine rule-based systems with machine learning techniques.\n",
    "\n"
   ]
  },
  {
   "cell_type": "markdown",
   "id": "4063fd18",
   "metadata": {},
   "source": [
    "We are going to develop a mini rule-based chatbot that uses **forward chaining** to identify patterns and generate responses. \n",
    "\n",
    "First, we will create a simple chatbot, that analyse user inputs and retrieve relevant rules to form appropriate answers. Then, we will introduce matching rules to generalise the inputs and allow the chatbot to handle a wider range of user queries.\n",
    "\n",
    "The image below illustrates how the chatbot's inference engine will work:\n",
    "\n",
    "<figure>\n",
    "<img src=\"forward-chaining.png\" alt=\"grid\" style=\"width: 500px;\"/>\n",
    "<figcaption style=\"text-align:center;font-style:italic\">(from Jim Smith's AI module - week 3) </figcaption>    \n",
    "</figure>\n",
    "    \n",
    "In our case,  the long-term memory is the knowledge base, which contains the (hard-coded) collection of information and rules. ; the short-term memory refers to the input provided by the user, which is the immediate context for the chatbot's response.\n",
    "\n",
    "so, let's get started!"
   ]
  },
  {
   "cell_type": "code",
   "execution_count": null,
   "id": "071fccd9",
   "metadata": {},
   "outputs": [],
   "source": [
    "#!pip install minikanren\n",
    "import kanren as mk\n",
    "\n",
    "# we'll keep features from miniKanren in their own mk namespace rather than import them as individual functions."
   ]
  },
  {
   "cell_type": "markdown",
   "id": "df07ee96",
   "metadata": {},
   "source": [
    "## Chatbot - basic version"
   ]
  },
  {
   "cell_type": "markdown",
   "id": "441a135a",
   "metadata": {},
   "source": [
    "We start with creating a basic version of our bot: the bot receives user inputs, accesses the knowledge base, and generates answers. For this, we need to implement:\n",
    "\n",
    "- a knowledge base storing the expected inputs as facts (`answers`)\n",
    "- a function that creates the response from the bot given the user input (`respond`)\n",
    "- a simple UI where the users can input their questions and receive their answer (`base_chatbot`)"
   ]
  },
  {
   "cell_type": "markdown",
   "id": "51d01d03",
   "metadata": {},
   "source": [
    "### Knowledge base\n",
    "Our KB will start small, and we are going to manually code the expected input/answer pairs, using kanren Relation and facts functions."
   ]
  },
  {
   "cell_type": "code",
   "execution_count": null,
   "id": "5127db67",
   "metadata": {},
   "outputs": [],
   "source": [
    "# create KB\n",
    "answers = mk.Relation()\n",
    "\n",
    "# terms will be of type (expected_input, answer)\n",
    "# some of the terms are extracted from Jim Smith't AI module - Week 1 : https://github.com/jim-smith/Artificial_Intelligence_1/blob/main/Learning_Materials/week1/myFirstChatbot.aiml\n",
    "mk.facts(answers, \n",
    "         ('HELLO','Well, hello!'),\n",
    "         ('WHAT ARE YOU', \"I'm a bot, isn't clear?\"),\n",
    "         ('IS THIS ALL THERE IS', \"I'm afraid so!\"),\n",
    "         ('WHAT IS YOUR NAME', 'My name is UWE bot'),\n",
    "         ('DO NOT PRETEND YOU ARE HUMAN', \"It was worth a try :'(\"),\n",
    "         # We'll do something with these later on\n",
    "         ('WHAT MORE CAN I DO', \"\"\"The sky is your limit! But if you need some suggestions:{{suggestions}}\"\"\"),\n",
    "         ('WHAT DO YOU LIKE', \"I like {{dish}} and {{drink}}\")\n",
    ")"
   ]
  },
  {
   "cell_type": "markdown",
   "id": "8b4878ef",
   "metadata": {},
   "source": [
    "### Getting the right answer\n",
    "\n",
    "The function below takes the  user input and attempts to find a matching answer in the KB. If an answer is found, it is then returned; otherwise, a default \"Sorry, I didn't understand\" response is provided."
   ]
  },
  {
   "cell_type": "code",
   "execution_count": null,
   "id": "92c6d189",
   "metadata": {},
   "outputs": [],
   "source": [
    "def respond(user_input):\n",
    "    # unknown variable to loop within the KB\n",
    "    answer = mk.var()\n",
    "\n",
    "    # find an answer matching the input\n",
    "    match_answer = mk.run(1, answer, answers(user_input, answer))\n",
    "\n",
    "    # kanren will return a tuple with some content if it found an answer\n",
    "    if len(match_answer):\n",
    "        return match_answer[0]\n",
    "\n",
    "    return \"Sorry, I didn't understand\""
   ]
  },
  {
   "cell_type": "markdown",
   "id": "cfd7fd04",
   "metadata": {},
   "source": [
    "Let's check this works OK by printing a couple of responses."
   ]
  },
  {
   "cell_type": "code",
   "execution_count": null,
   "id": "9386a296",
   "metadata": {},
   "outputs": [],
   "source": [
    "(\n",
    "respond('HELLO'),\n",
    "respond('IS THIS ALL THERE IS'),\n",
    "respond('CAN YOU DO MY KBHS ASSIGNMENT')\n",
    ")"
   ]
  },
  {
   "cell_type": "markdown",
   "id": "e16fb26f",
   "metadata": {},
   "source": [
    "### Let's chat!\n",
    "\n",
    "In the function below, the bot will continuously prompt the user for their input, until they respond with a specific `bye` keyword."
   ]
  },
  {
   "cell_type": "code",
   "execution_count": null,
   "id": "0066fc34",
   "metadata": {},
   "outputs": [],
   "source": [
    "def base_chatbot():\n",
    "    keep_chatting = True\n",
    "    STOP_CHATTING_TRIGGER = 'bye'\n",
    "\n",
    "    while keep_chatting:\n",
    "        user_input = input(\"Enter your message >> \")\n",
    "        if(user_input == STOP_CHATTING_TRIGGER):\n",
    "            keep_chatting = False\n",
    "        else:\n",
    "            print(respond(user_input))\n",
    "\n",
    "# Uncomment to run the chatbot\n",
    "# base_chatbot()"
   ]
  },
  {
   "cell_type": "markdown",
   "id": "25db9390",
   "metadata": {},
   "source": [
    "### Exercise 1\n",
    "In a real-life scenario, a chatbot would typically have a large number of questions and answers, making it impractical to manually encode them all. To handle this, such pairs can be stored in a separate data source.\n",
    "\n",
    "\n",
    "**Task**\n",
    "\n",
    "You have been provided with a csv file with some questions/answer.\n",
    "\n",
    "Write a function that imports this external knowledge source into python and adds it to your KB used by the chatbot.\n",
    "\n",
    "**File: exercise1.csv**"
   ]
  },
  {
   "cell_type": "code",
   "execution_count": null,
   "id": "50902f47",
   "metadata": {},
   "outputs": [],
   "source": [
    "# write your code here"
   ]
  },
  {
   "cell_type": "markdown",
   "id": "d89c2dcc",
   "metadata": {},
   "source": [
    "## Chatbot - a flexible version\n",
    "\n",
    "The `respond` rule we have created will match the prompt character for character. Not ideal when it's a human typing things, and  not necessarily uppercasing their input like the prompts are. So let's improve our chatbot to make it more flexible.\n",
    "\n",
    "We will need to:\n",
    "- implement a more flexible way to match the prompt to the input, not uppercase/lowercase senstive\n",
    "- use that new matching rule when searching in the knowledge base"
   ]
  },
  {
   "cell_type": "markdown",
   "id": "3b8f001f",
   "metadata": {},
   "source": [
    "### String transform"
   ]
  },
  {
   "cell_type": "code",
   "execution_count": null,
   "id": "a841214b",
   "metadata": {},
   "outputs": [],
   "source": [
    "#  transform a string to only its alphanumerical characters and lower case\n",
    "def transform_string(string):\n",
    "    # remove non alphanumerical characters, https://stackoverflow.com/a/5843560\n",
    "    new_str = ''.join(character for character in string if character.isalnum())\n",
    "    new_str = new_str.lower()\n",
    "    return new_str\n",
    "\n",
    "    \n",
    "# transform two strings and compares them \n",
    "# we will use this function in for the rule matching\n",
    "def string_matching(str1, str2):\n",
    "    match = (transform_string(str1) == transform_string(str2))\n",
    "    return match"
   ]
  },
  {
   "cell_type": "markdown",
   "id": "2f13d501",
   "metadata": {},
   "source": [
    "Quick test:"
   ]
  },
  {
   "cell_type": "code",
   "execution_count": null,
   "id": "00aa5bfa",
   "metadata": {},
   "outputs": [],
   "source": [
    "(\n",
    "string_matching('A Bc D', ' a B Cd?'),\n",
    "string_matching('A c D', 'Something else')\n",
    ")"
   ]
  },
  {
   "cell_type": "markdown",
   "id": "a873d42b",
   "metadata": {},
   "source": [
    "### Exercise 2\n",
    "\n",
    "Our chatbot is able to answer 'Well, hello', whether I type 'HELLO', 'hello', 'Hello!'. \n",
    "\n",
    "But what if I type 'helo', 'hlelo'?\n",
    "\n",
    "Human typing is prone to errors. Users may unintentionally make typos, such as omitting a letter or swapping characters while entering text. \n",
    "\n",
    "**Task**\n",
    "\n",
    "Update the `string_mathcing` function to check for similarities between two texts, rather tahn equality. A useful library could be [textdistance](https://pypi.org/project/textdistance/)."
   ]
  },
  {
   "cell_type": "code",
   "execution_count": null,
   "id": "c4230ef9",
   "metadata": {},
   "outputs": [],
   "source": [
    "# write your code here"
   ]
  },
  {
   "cell_type": "markdown",
   "id": "2f72f660",
   "metadata": {},
   "source": [
    "### Flexible matching"
   ]
  },
  {
   "cell_type": "markdown",
   "id": "187d18e9",
   "metadata": {},
   "source": [
    "In `respond` we were just accesing the KB and find the exact match for our input. We now need to improve our `respond` function,  by adding a custom goal constructor that matches two string even if they have non-alphanumerical cases and/or lower/upper cases.\n",
    "\n",
    "\n",
    "As either (or both) of these strings could be logical variables, we'll need use Kanren's `applyo` function: it allows to execute a function of our choice (in our case is `string_matching`), passing it a tuple of arguments that may mix regular python variables and logical variables from Kanren. Once we get the result, we can then run Kanren's `eq` to tell if the goal is fullfilled or not."
   ]
  },
  {
   "cell_type": "code",
   "execution_count": null,
   "id": "32e590f0",
   "metadata": {},
   "outputs": [],
   "source": [
    "from kanren.term import applyo\n",
    "\n",
    "# custom matching goal\n",
    "def alphanumerical_match(str1, str2):\n",
    "    match = mk.var()\n",
    "\n",
    "    result = mk.lall(\n",
    "        # apply the string_matching criteria  \n",
    "        applyo(string_matching, (str1, str2), match),\n",
    "        mk.eq(match, True)\n",
    "    )\n",
    "    \n",
    "    return result"
   ]
  },
  {
   "cell_type": "markdown",
   "id": "a94a41c0",
   "metadata": {},
   "source": [
    "We can then combine that new goal constructor with the one matching the `answers`, and create `flexible_response` , an improved version of `respond`."
   ]
  },
  {
   "cell_type": "code",
   "execution_count": null,
   "id": "a208e53f",
   "metadata": {},
   "outputs": [],
   "source": [
    "def flexible_response(user_input):\n",
    "    # unknown variables to loop within the KB\n",
    "    answer = mk.var() \n",
    "    expected_input = mk.var()\n",
    "    \n",
    "    \n",
    "    goals = (\n",
    "        # find candidates for the expeced_input \n",
    "        answers(expected_input, answer),\n",
    "        # check that a candidate matches the user input, after the string transformation\n",
    "        alphanumerical_match(expected_input, user_input)\n",
    "    )\n",
    "    \n",
    "    # find an answer matching the input\n",
    "    match_answer = mk.run(1, (answer, expected_input), *goals)\n",
    "   \n",
    "   \n",
    "    # kanren will return a tuple (answer, expected_input) with some content if it found an answer                           \n",
    "    if len(match_answer):\n",
    "        return match_answer[0][0]\n",
    "\n",
    "    return \"Sorry, I didn't understand\""
   ]
  },
  {
   "cell_type": "markdown",
   "id": "76438c75",
   "metadata": {},
   "source": [
    "Quick test again:"
   ]
  },
  {
   "cell_type": "code",
   "execution_count": null,
   "id": "4cd8e900",
   "metadata": {},
   "outputs": [],
   "source": [
    "(\n",
    "flexible_response('HELLO'),\n",
    "flexible_response('What are you?'),\n",
    "flexible_response('is this all there is????')\n",
    ")"
   ]
  },
  {
   "cell_type": "markdown",
   "id": "46716828",
   "metadata": {},
   "source": [
    "### Improved chatbot"
   ]
  },
  {
   "cell_type": "markdown",
   "id": "5f7d5797",
   "metadata": {},
   "source": [
    "Let's now create a second iteration of the chatbot, a more flexible version."
   ]
  },
  {
   "cell_type": "code",
   "execution_count": null,
   "id": "59b0962f",
   "metadata": {},
   "outputs": [],
   "source": [
    "def improved_chatbot():\n",
    "    keep_chatting = True\n",
    "    STOP_CHATTING_TRIGGER = 'bye'\n",
    "\n",
    "    while keep_chatting:\n",
    "        user_input = input(\"Enter your message >> \")\n",
    "        \n",
    "        # use the new way of matching for the 'bye' message as well\n",
    "        if string_matching(user_input, STOP_CHATTING_TRIGGER):\n",
    "            keep_chatting = False\n",
    "        else:\n",
    "            print(flexible_response(user_input))\n",
    "\n",
    "\n",
    "\n",
    "# Uncomment to run the chatbot\n",
    "# improved_chatbot()\n"
   ]
  },
  {
   "cell_type": "markdown",
   "id": "74183bea",
   "metadata": {},
   "source": [
    "### Exercise 3\n",
    "\n",
    "We want to expand our chatbot features by including user input data, for example their name.\n",
    "\n",
    "**Task 1**\n",
    "\n",
    "Write a function so that when the user says `My name is <name>`, then their name gets stored into a variable.\n",
    "\n",
    "**Task 2**\n",
    "\n",
    "Make the chatbot to reuse the name.For example, the bot could reply with `Nice to meet you, <name>`, or say `Bye <name>` before exiting the program. "
   ]
  },
  {
   "cell_type": "code",
   "execution_count": null,
   "id": "e1db7f9f",
   "metadata": {},
   "outputs": [],
   "source": [
    "# write your code here"
   ]
  },
  {
   "cell_type": "markdown",
   "id": "30daafe8",
   "metadata": {},
   "source": [
    "## Pulling more content from the knowledge base\n",
    "\n",
    "You may have noticed in our KB we use `{{suggestions}}` in the answer for 'WHAT MORE CAN I DO'. `{{ }}` is a placeholder to be replaced by some actual suggestions that the bot can answer with. \n",
    "\n",
    "**Placeholders** hold some space so they can be replaced with specific values during the execution of the program. This allow to generalise answers, expand the current KB with other knowledge sources, or personalise the chatbot interactions. \n",
    "\n",
    "For example, in a real-life scenarios, a chatbot may use placeholders to display information that needs to be repeated across multiple messages (to help with consistency across messages) or that needs to be updated dynamically.\n",
    "\n",
    "\n"
   ]
  },
  {
   "cell_type": "markdown",
   "id": "b59f555a",
   "metadata": {},
   "source": [
    "### More knowledge\n",
    "\n",
    "Let's expand our knowledge base with a list of replacemenents for placeholders."
   ]
  },
  {
   "cell_type": "code",
   "execution_count": null,
   "id": "96d155fa",
   "metadata": {},
   "outputs": [],
   "source": [
    "# create a new relation\n",
    "replacements = mk.Relation()\n",
    "\n",
    "mk.facts(replacements, \n",
    "         ('WHAT MORE CAN I DO', (('suggestions', \"\"\"Can you make the chatbot send multiple answers?\n",
    "                                                 Can you make the bot ask user name and store it\"\"\"))),\n",
    "         ('WHAT DO YOU LIKE', (('dish','pizza'), ('drink', 'strawberry smoothie')))\n",
    "   )"
   ]
  },
  {
   "cell_type": "markdown",
   "id": "87a13372",
   "metadata": {},
   "source": [
    "Each replacement term lists the expected input it relates to (`'WHAT MORE CAN I DO'`), a key it's meant to replace (`'suggestions'` for our specif placeholder case), and the content to replace it with. \n",
    "\n",
    "Let's check everything works."
   ]
  },
  {
   "cell_type": "code",
   "execution_count": null,
   "id": "f8d08c5e",
   "metadata": {},
   "outputs": [],
   "source": [
    "x = mk.var()\n",
    "mk.run(0, x, replacements('WHAT DO YOU LIKE', x))"
   ]
  },
  {
   "cell_type": "markdown",
   "id": "0a77be3d",
   "metadata": {},
   "source": [
    "### Exercise 4\n",
    "\n",
    "We now want to use these replacements in our chatbot.\n",
    "\n",
    "**Task 1**\n",
    "\n",
    "Create a function that queries the KB and outputs both the answer, and any replacements for placeholders. The function should still be flexible in matching the user input with the expected inputs in the KB.\n",
    "\n",
    "**Task 2**\n",
    "\n",
    "Using the function from Task 1, combine the answer and its placeholder replacement to form the final output for the user.\n",
    "\n",
    "**Task 3**\n",
    "\n",
    "Using the function from Task 2, create a 3rd iteration of the chatbot that will include the replacements in its asnwers."
   ]
  },
  {
   "cell_type": "code",
   "execution_count": null,
   "id": "8dc11cce",
   "metadata": {},
   "outputs": [],
   "source": [
    "# write your code here"
   ]
  },
  {
   "cell_type": "markdown",
   "id": "f7d536dd",
   "metadata": {},
   "source": [
    "## (Optional) Exercises\n",
    "\n",
    "If you want to keep improving your chatbot, here there are some ideas for you to implement:\n",
    "\n",
    "- Multiple outputs: Can some inputs make the chatbot send multiple messages?\n",
    "- Multiple inputs / Incremental decision making: Can the chatbot ask the users multiple questions before reaching a final answer (based on the user inputs)?\n",
    "- Can you have the bot ask what language the user would prefer to talk in and change the text of its answers according to their preference?"
   ]
  }
 ],
 "metadata": {
  "kernelspec": {
   "display_name": "Python 3 (ipykernel)",
   "language": "python",
   "name": "python3"
  },
  "language_info": {
   "codemirror_mode": {
    "name": "ipython",
    "version": 3
   },
   "file_extension": ".py",
   "mimetype": "text/x-python",
   "name": "python",
   "nbconvert_exporter": "python",
   "pygments_lexer": "ipython3",
   "version": "3.9.12"
  }
 },
 "nbformat": 4,
 "nbformat_minor": 5
}
